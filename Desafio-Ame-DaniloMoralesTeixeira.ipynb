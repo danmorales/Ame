{
 "cells": [
  {
   "cell_type": "markdown",
   "metadata": {},
   "source": [
    "# Solução do desafio Ame\n",
    "Solução desenvolvida por Danilo Morales Teixeira\n",
    "\n",
    "18/09/2019"
   ]
  },
  {
   "cell_type": "markdown",
   "metadata": {},
   "source": [
    "Importando as bibliotecas fundamentais para inicio do estudo e exploração inicial dos dados"
   ]
  },
  {
   "cell_type": "code",
   "execution_count": 1,
   "metadata": {},
   "outputs": [],
   "source": [
    "import pandas as pd\n",
    "import numpy as np\n",
    "import matplotlib.pyplot as plt\n",
    "import seaborn as sns"
   ]
  },
  {
   "cell_type": "markdown",
   "metadata": {},
   "source": [
    "Carregando a base de dados presente no arquivo problem1_dataset.csv utilizando a biblioteca Pandas"
   ]
  },
  {
   "cell_type": "code",
   "execution_count": 2,
   "metadata": {},
   "outputs": [],
   "source": [
    "dataset = pd.read_csv('problem1_dataset.csv')"
   ]
  },
  {
   "cell_type": "markdown",
   "metadata": {},
   "source": [
    "Determinando número de linhas e colunas do dataset"
   ]
  },
  {
   "cell_type": "code",
   "execution_count": 3,
   "metadata": {},
   "outputs": [
    {
     "name": "stdout",
     "output_type": "stream",
     "text": [
      "Este dataset possui 180275 linhas e 21 colunas\n"
     ]
    }
   ],
   "source": [
    "linhas = dataset.shape[0]\n",
    "colunas = dataset.shape[1]\n",
    "print(\"Este dataset possui {} linhas e {} colunas\".format(linhas,colunas))"
   ]
  },
  {
   "cell_type": "markdown",
   "metadata": {},
   "source": [
    "Exibindo o nome das colunas para facilitar a análise exploratória de dados (EDA)"
   ]
  },
  {
   "cell_type": "code",
   "execution_count": 4,
   "metadata": {},
   "outputs": [
    {
     "name": "stdout",
     "output_type": "stream",
     "text": [
      "Index(['ITEM_ID', 'ALTURA', 'CAPACIDADE_(L)', 'COMPOSICAO', 'COR', 'FORMATO',\n",
      "       'LARGURA', 'MARCA', 'PARA_LAVA_LOUCAS', 'PARA_MICRO_ONDAS', 'PESO',\n",
      "       'PROFUNDIDADE', 'TEMPO_GARANTIA', 'TEM_FERRO_FUNDIDO', 'TEM_GRELHA',\n",
      "       'TEM_TAMPA', 'TIPO_PRODUTO', 'TIPO_WOK', 'SESSION_ID', 'ITEM_PRICE',\n",
      "       'INTERESTED'],\n",
      "      dtype='object')\n"
     ]
    }
   ],
   "source": [
    "colunas = dataset.columns\n",
    "print(colunas)"
   ]
  },
  {
   "cell_type": "markdown",
   "metadata": {},
   "source": [
    "Exibindo as cinco primeiras linhas do dataset"
   ]
  },
  {
   "cell_type": "code",
   "execution_count": 5,
   "metadata": {},
   "outputs": [
    {
     "name": "stdout",
     "output_type": "stream",
     "text": [
      "     ITEM_ID  ALTURA  CAPACIDADE_(L) COMPOSICAO       COR  FORMATO  LARGURA  \\\n",
      "0  264220456    30.5             NaN   ALUMINIO     VINHO      NaN     14.0   \n",
      "1  238630912    22.0             NaN   ALUMINIO  COLORIDO      NaN     24.0   \n",
      "2  218228122    24.0             NaN       INOX      INOX      NaN     20.0   \n",
      "3  253661510    49.5             6.0   ALUMINIO  VERMELHO  REDONDO     41.5   \n",
      "4  253661510    49.5             6.0   ALUMINIO  VERMELHO  REDONDO     41.5   \n",
      "\n",
      "        MARCA PARA_LAVA_LOUCAS PARA_MICRO_ONDAS  ...  PROFUNDIDADE  \\\n",
      "0  LA CUISINE              NaN              NaN  ...          50.0   \n",
      "1  TRAMONTINA               No               no  ...          40.0   \n",
      "2  LA CUISINE              Yes               no  ...          20.0   \n",
      "3  TRAMONTINA              Yes              NaN  ...          47.0   \n",
      "4  TRAMONTINA              Yes              NaN  ...          47.0   \n",
      "\n",
      "   TEMPO_GARANTIA  TEM_FERRO_FUNDIDO TEM_GRELHA TEM_TAMPA  TIPO_PRODUTO  \\\n",
      "0             3.0                NAO        SIM       1.0        PANELA   \n",
      "1            12.0                NAO        NAO       1.0    PIPOQUEIRA   \n",
      "2             3.0                NAO        NAO       1.0  ESPAGUETEIRA   \n",
      "3             NaN                NAO        NAO       1.0    PIPOQUEIRA   \n",
      "4             NaN                NAO        NAO       1.0    PIPOQUEIRA   \n",
      "\n",
      "  TIPO_WOK  SESSION_ID  ITEM_PRICE  INTERESTED  \n",
      "0      NAO   86.709770  199.990000         0.0  \n",
      "1      NAO   73.156401  105.112581         0.0  \n",
      "2      NAO  952.331024  139.990000         0.0  \n",
      "3      NAO  637.759106  103.293333         1.0  \n",
      "4      NAO  478.531428  103.330242         0.0  \n",
      "\n",
      "[5 rows x 21 columns]\n"
     ]
    }
   ],
   "source": [
    "print(dataset.head(5))"
   ]
  },
  {
   "cell_type": "markdown",
   "metadata": {},
   "source": [
    "Analisando os dados das colunas, podemos verificar que as colunas ITEM_ID e SESSION_ID podem ser removidas uma vez que não fornecem informações úteis para o nosso estudo"
   ]
  },
  {
   "cell_type": "markdown",
   "metadata": {},
   "source": [
    "Removendo as colunas ITEM_ID e SESSION_ID"
   ]
  },
  {
   "cell_type": "code",
   "execution_count": 6,
   "metadata": {},
   "outputs": [],
   "source": [
    "dataset = dataset.drop(['ITEM_ID','SESSION_ID'],axis=1)"
   ]
  },
  {
   "cell_type": "markdown",
   "metadata": {},
   "source": [
    "Exibindo novamente as cinco primeiras linhas para verificar se as duas colunas foram removidas"
   ]
  },
  {
   "cell_type": "code",
   "execution_count": 7,
   "metadata": {},
   "outputs": [
    {
     "name": "stdout",
     "output_type": "stream",
     "text": [
      "   ALTURA  CAPACIDADE_(L) COMPOSICAO       COR  FORMATO  LARGURA       MARCA  \\\n",
      "0    30.5             NaN   ALUMINIO     VINHO      NaN     14.0  LA CUISINE   \n",
      "1    22.0             NaN   ALUMINIO  COLORIDO      NaN     24.0  TRAMONTINA   \n",
      "2    24.0             NaN       INOX      INOX      NaN     20.0  LA CUISINE   \n",
      "3    49.5             6.0   ALUMINIO  VERMELHO  REDONDO     41.5  TRAMONTINA   \n",
      "4    49.5             6.0   ALUMINIO  VERMELHO  REDONDO     41.5  TRAMONTINA   \n",
      "\n",
      "  PARA_LAVA_LOUCAS PARA_MICRO_ONDAS   PESO  PROFUNDIDADE  TEMPO_GARANTIA  \\\n",
      "0              NaN              NaN    NaN          50.0             3.0   \n",
      "1               No               no  150.0          40.0            12.0   \n",
      "2              Yes               no  190.0          20.0             3.0   \n",
      "3              Yes              NaN  120.0          47.0             NaN   \n",
      "4              Yes              NaN  120.0          47.0             NaN   \n",
      "\n",
      "  TEM_FERRO_FUNDIDO TEM_GRELHA  TEM_TAMPA  TIPO_PRODUTO TIPO_WOK  ITEM_PRICE  \\\n",
      "0               NAO        SIM        1.0        PANELA      NAO  199.990000   \n",
      "1               NAO        NAO        1.0    PIPOQUEIRA      NAO  105.112581   \n",
      "2               NAO        NAO        1.0  ESPAGUETEIRA      NAO  139.990000   \n",
      "3               NAO        NAO        1.0    PIPOQUEIRA      NAO  103.293333   \n",
      "4               NAO        NAO        1.0    PIPOQUEIRA      NAO  103.330242   \n",
      "\n",
      "   INTERESTED  \n",
      "0         0.0  \n",
      "1         0.0  \n",
      "2         0.0  \n",
      "3         1.0  \n",
      "4         0.0  \n"
     ]
    }
   ],
   "source": [
    "print(dataset.head(5))"
   ]
  },
  {
   "cell_type": "markdown",
   "metadata": {},
   "source": [
    "Analisando a distribuição de pessoas interessadas ou não nos produtos. Os valores 0 e 1 serão convertidos para os valores Sim e Não"
   ]
  },
  {
   "cell_type": "code",
   "execution_count": 8,
   "metadata": {},
   "outputs": [],
   "source": [
    "dataset_tmp = dataset.copy()\n",
    "dataset_tmp['INTERESTED'] = dataset['INTERESTED'].map({0 : 'Sim', 1 : 'Não'})"
   ]
  },
  {
   "cell_type": "code",
   "execution_count": 9,
   "metadata": {},
   "outputs": [
    {
     "data": {
      "image/png": "[encoded data removed]",
      "text/plain": [
       "<Figure size 432x288 with 1 Axes>"
      ]
     },
     "metadata": {
      "needs_background": "light"
     },
     "output_type": "display_data"
    }
   ],
   "source": [
    "sns.countplot(x='INTERESTED',data=dataset_tmp);"
   ]
  },
  {
   "cell_type": "markdown",
   "metadata": {},
   "source": [
    "Analisando a distribuição dos preços"
   ]
  },
  {
   "cell_type": "code",
   "execution_count": 10,
   "metadata": {},
   "outputs": [
    {
     "data": {
      "image/png": "[encoded data removed]",
      "text/plain": [
       "<Figure size 432x288 with 2 Axes>"
      ]
     },
     "metadata": {
      "needs_background": "light"
     },
     "output_type": "display_data"
    }
   ],
   "source": [
    "plt.subplot(1,2,1)\n",
    "sns.distplot(dataset[dataset['INTERESTED'] == 0]['ITEM_PRICE'].dropna(),kde=False,label='Interessante');\n",
    "plt.title('Interested')\n",
    "plt.subplot(1,2,2)\n",
    "sns.distplot(dataset[dataset['INTERESTED'] == 1]['ITEM_PRICE'].dropna(),kde=False,label='Não intersante');\n",
    "plt.title('Not Interested')\n",
    "plt.tight_layout()"
   ]
  },
  {
   "cell_type": "markdown",
   "metadata": {},
   "source": [
    "# Observamos que os produtos que custam menos do que 500 tem níveis de interesse e desinteresse parecidos. Produtos custando acima de 100 tiveram baixa procura. "
   ]
  },
  {
   "cell_type": "markdown",
   "metadata": {},
   "source": [
    "Analisando a distribuição de altura dos produtos. Iremos utilizar uma distribuição normalizada para melhor compararmos dois dois casos"
   ]
  },
  {
   "cell_type": "code",
   "execution_count": 11,
   "metadata": {},
   "outputs": [
    {
     "data": {
      "image/png": "[encoded data removed]",
      "text/plain": [
       "<Figure size 432x288 with 1 Axes>"
      ]
     },
     "metadata": {
      "needs_background": "light"
     },
     "output_type": "display_data"
    }
   ],
   "source": [
    "sns.distplot(dataset[dataset['INTERESTED'] == 0]['ALTURA'].dropna(),kde=True,label='Interessante');\n",
    "sns.distplot(dataset[dataset['INTERESTED'] == 1]['ALTURA'].dropna(),kde=True,label='Não intersante');\n",
    "plt.legend(loc='best');"
   ]
  },
  {
   "cell_type": "markdown",
   "metadata": {},
   "source": [
    "# Observamos da distribuição normalizada que a altura do produto não alterou o interesse do cliente"
   ]
  },
  {
   "cell_type": "markdown",
   "metadata": {},
   "source": [
    "Analisando a distribuição da capacidade dos produtos. Iremos utilizar uma distribuição normalizada para melhor compararmos dois dois casos"
   ]
  },
  {
   "cell_type": "code",
   "execution_count": 12,
   "metadata": {},
   "outputs": [
    {
     "data": {
      "image/png": "[encoded data removed]",
      "text/plain": [
       "<Figure size 432x288 with 1 Axes>"
      ]
     },
     "metadata": {
      "needs_background": "light"
     },
     "output_type": "display_data"
    }
   ],
   "source": [
    "sns.distplot(dataset[dataset['INTERESTED'] == 0]['CAPACIDADE_(L)'].dropna(),kde=True,label='Interessante');\n",
    "sns.distplot(dataset[dataset['INTERESTED'] == 1]['CAPACIDADE_(L)'].dropna(),kde=True,label='Não intersante');\n",
    "plt.legend(loc='best');"
   ]
  },
  {
   "cell_type": "markdown",
   "metadata": {},
   "source": [
    "# Observamos que a capacidade também não afetou o interesse pelo produto"
   ]
  },
  {
   "cell_type": "markdown",
   "metadata": {},
   "source": [
    "Analisando a distribuição da largura dos produtos. Iremos utilizar uma distribuição normalizada para melhor compararmos dois dois casos"
   ]
  },
  {
   "cell_type": "code",
   "execution_count": 13,
   "metadata": {},
   "outputs": [
    {
     "data": {
      "image/png": "[encoded data removed]",
      "text/plain": [
       "<Figure size 432x288 with 1 Axes>"
      ]
     },
     "metadata": {
      "needs_background": "light"
     },
     "output_type": "display_data"
    }
   ],
   "source": [
    "sns.distplot(dataset[dataset['INTERESTED'] == 0]['LARGURA'].dropna(),kde=True,label='Interessante');\n",
    "sns.distplot(dataset[dataset['INTERESTED'] == 1]['LARGURA'].dropna(),kde=True,label='Não intersante');\n",
    "plt.legend(loc='best');"
   ]
  },
  {
   "cell_type": "markdown",
   "metadata": {},
   "source": [
    "# Observamos que a largura também não afetou o interesse pelo produto"
   ]
  },
  {
   "cell_type": "markdown",
   "metadata": {},
   "source": [
    "Analisando a distribuição dos pesos dos produtos"
   ]
  },
  {
   "cell_type": "code",
   "execution_count": 14,
   "metadata": {},
   "outputs": [
    {
     "data": {
      "image/png": "[encoded data removed]",
      "text/plain": [
       "<Figure size 432x288 with 2 Axes>"
      ]
     },
     "metadata": {
      "needs_background": "light"
     },
     "output_type": "display_data"
    }
   ],
   "source": [
    "plt.subplot(1,2,1)\n",
    "sns.distplot(dataset[dataset['INTERESTED'] == 0]['PESO'].dropna(),kde=False,label='Interessante');\n",
    "plt.xlim([0,2000])\n",
    "plt.subplot(1,2,2)\n",
    "sns.distplot(dataset[dataset['INTERESTED'] == 1]['PESO'].dropna(),kde=False,label='Não intersante');\n",
    "plt.xlim([0,2000])\n",
    "plt.tight_layout()"
   ]
  },
  {
   "cell_type": "markdown",
   "metadata": {},
   "source": [
    "# Observamos que o peso do produto não afetou o grau de interesse"
   ]
  },
  {
   "cell_type": "markdown",
   "metadata": {},
   "source": [
    "Analisando o grau de interesse das diferentes marcas. Convertendo os NaNs para sem marca definida"
   ]
  },
  {
   "cell_type": "code",
   "execution_count": 15,
   "metadata": {},
   "outputs": [
    {
     "data": {
      "image/png": "[encoded data removed]",
      "text/plain": [
       "<Figure size 1440x576 with 1 Axes>"
      ]
     },
     "metadata": {
      "needs_background": "light"
     },
     "output_type": "display_data"
    }
   ],
   "source": [
    "dataset_tmp['MARCA'] = dataset_tmp['MARCA'].fillna('Sem Marca')\n",
    "fig,ax = plt.subplots()\n",
    "fig.set_size_inches(20, 8)\n",
    "sns.countplot(x = 'MARCA', data = dataset_tmp, hue='INTERESTED')\n",
    "plt.xticks(rotation='vertical')\n",
    "plt.tight_layout()"
   ]
  },
  {
   "cell_type": "markdown",
   "metadata": {},
   "source": [
    "# Este gráficos demonstra que a marca Tramontina possui maior interesse, seguida pela LA CUISINE. Este gráfico também nos mostra que ambas as marcas são as que apresentação maior taxa de desinteresse. Os produtos sem marca definida representam uma minoria"
   ]
  },
  {
   "cell_type": "markdown",
   "metadata": {},
   "source": [
    "Analisando o grau de interesse das diferentes composições. Convetendo NaNs para desconhecido"
   ]
  },
  {
   "cell_type": "code",
   "execution_count": 16,
   "metadata": {},
   "outputs": [
    {
     "data": {
      "image/png": "[encoded data removed]",
      "text/plain": [
       "<Figure size 1440x576 with 1 Axes>"
      ]
     },
     "metadata": {
      "needs_background": "light"
     },
     "output_type": "display_data"
    }
   ],
   "source": [
    "dataset_tmp['COMPOSICAO'] = dataset_tmp['COMPOSICAO'].fillna('Desconhecido')\n",
    "fig,ax = plt.subplots()\n",
    "fig.set_size_inches(20, 8)\n",
    "sns.countplot(x = 'COMPOSICAO', data = dataset_tmp, hue='INTERESTED')\n",
    "plt.xticks(rotation='vertical')\n",
    "plt.tight_layout()"
   ]
  },
  {
   "cell_type": "markdown",
   "metadata": {},
   "source": [
    "# Observamos que produtos feitos de alumino dominam o interesse do cliente seguidos pelos de inox. Os produtos com composição desconhecida também tem atraído o interesse do cliente"
   ]
  },
  {
   "cell_type": "markdown",
   "metadata": {},
   "source": [
    "Analisando o grau de interesse das em relação a cor. Convertendo NaNs para desconhecido"
   ]
  },
  {
   "cell_type": "code",
   "execution_count": 17,
   "metadata": {},
   "outputs": [
    {
     "data": {
      "image/png": "[encoded data removed]",
      "text/plain": [
       "<Figure size 1440x576 with 1 Axes>"
      ]
     },
     "metadata": {
      "needs_background": "light"
     },
     "output_type": "display_data"
    }
   ],
   "source": [
    "dataset_tmp['COR'] = dataset_tmp['COR'].fillna('Desconhecido')\n",
    "fig,ax = plt.subplots()\n",
    "fig.set_size_inches(20, 8)\n",
    "sns.countplot(x = 'COR', data = dataset_tmp, hue='INTERESTED')\n",
    "plt.xticks(rotation='vertical')\n",
    "plt.tight_layout()"
   ]
  },
  {
   "cell_type": "markdown",
   "metadata": {},
   "source": [
    "# Os produtos com cores inox, vermelho, cereja e preto são os que mais cham o interesse do cliente"
   ]
  },
  {
   "cell_type": "markdown",
   "metadata": {},
   "source": [
    "Analisando o grau de interesse das em relação ao formato. Convertendo NaNs para desconhecido"
   ]
  },
  {
   "cell_type": "code",
   "execution_count": 18,
   "metadata": {},
   "outputs": [
    {
     "data": {
      "image/png": "[encoded data removed]",
      "text/plain": [
       "<Figure size 1440x576 with 1 Axes>"
      ]
     },
     "metadata": {
      "needs_background": "light"
     },
     "output_type": "display_data"
    }
   ],
   "source": [
    "dataset_tmp['FORMATO'] = dataset_tmp['FORMATO'].fillna('Desconhecido')\n",
    "fig,ax = plt.subplots()\n",
    "fig.set_size_inches(20, 8)\n",
    "sns.countplot(x = 'FORMATO', data = dataset_tmp, hue='INTERESTED')\n",
    "plt.xticks(rotation='vertical')\n",
    "plt.tight_layout()"
   ]
  },
  {
   "cell_type": "markdown",
   "metadata": {},
   "source": [
    "# Produtos com formato redondo e desconhecido receberam mais interesse do cliente e notamos que ambos apresentaram o mesmo grau de rejeição. "
   ]
  },
  {
   "cell_type": "markdown",
   "metadata": {},
   "source": [
    "Analisando a distribuição pelo tipo de produto"
   ]
  },
  {
   "cell_type": "code",
   "execution_count": 19,
   "metadata": {},
   "outputs": [
    {
     "data": {
      "image/png": "[encoded data removed]",
      "text/plain": [
       "<Figure size 1440x576 with 1 Axes>"
      ]
     },
     "metadata": {
      "needs_background": "light"
     },
     "output_type": "display_data"
    }
   ],
   "source": [
    "dataset_tmp['COR'] = dataset_tmp['TIPO_PRODUTO'].fillna('Desconhecido')\n",
    "fig,ax = plt.subplots()\n",
    "fig.set_size_inches(20, 8)\n",
    "sns.countplot(x = 'TIPO_PRODUTO', data = dataset_tmp, hue='INTERESTED')\n",
    "plt.xticks(rotation='vertical')\n",
    "plt.legend(loc='best')\n",
    "plt.tight_layout()"
   ]
  },
  {
   "cell_type": "markdown",
   "metadata": {},
   "source": [
    "# As variáveis que mais definiram se um cliente irá ou não se interessar pelo produto são MARCA, FORMATO, COR, TIPO_PRODUTO e COMPOSISAO"
   ]
  },
  {
   "cell_type": "markdown",
   "metadata": {},
   "source": [
    "Iremos agora converter as variáveis categóricas Marca, composição, cor, formato, para lavar louças, para microondas, tem_ferro_fundido, tem grelha, tipo de produto e tem wook para variáveis numéricas"
   ]
  },
  {
   "cell_type": "markdown",
   "metadata": {},
   "source": [
    "Importanto bilioteca LabelEnconder para realizar esta conversão"
   ]
  },
  {
   "cell_type": "code",
   "execution_count": 20,
   "metadata": {},
   "outputs": [],
   "source": [
    "from sklearn.preprocessing import LabelEncoder"
   ]
  },
  {
   "cell_type": "code",
   "execution_count": 21,
   "metadata": {},
   "outputs": [
    {
     "data": {
      "text/html": [
       "<div>\n",
       "<style scoped>\n",
       "    .dataframe tbody tr th:only-of-type {\n",
       "        vertical-align: middle;\n",
       "    }\n",
       "\n",
       "    .dataframe tbody tr th {\n",
       "        vertical-align: top;\n",
       "    }\n",
       "\n",
       "    .dataframe thead th {\n",
       "        text-align: right;\n",
       "    }\n",
       "</style>\n",
       "<table border=\"1\" class=\"dataframe\">\n",
       "  <thead>\n",
       "    <tr style=\"text-align: right;\">\n",
       "      <th></th>\n",
       "      <th>ALTURA</th>\n",
       "      <th>CAPACIDADE_(L)</th>\n",
       "      <th>COMPOSICAO</th>\n",
       "      <th>COR</th>\n",
       "      <th>FORMATO</th>\n",
       "      <th>LARGURA</th>\n",
       "      <th>MARCA</th>\n",
       "      <th>PARA_LAVA_LOUCAS</th>\n",
       "      <th>PARA_MICRO_ONDAS</th>\n",
       "      <th>PESO</th>\n",
       "      <th>PROFUNDIDADE</th>\n",
       "      <th>TEMPO_GARANTIA</th>\n",
       "      <th>TEM_FERRO_FUNDIDO</th>\n",
       "      <th>TEM_GRELHA</th>\n",
       "      <th>TEM_TAMPA</th>\n",
       "      <th>TIPO_PRODUTO</th>\n",
       "      <th>TIPO_WOK</th>\n",
       "      <th>ITEM_PRICE</th>\n",
       "      <th>INTERESTED</th>\n",
       "    </tr>\n",
       "  </thead>\n",
       "  <tbody>\n",
       "    <tr>\n",
       "      <td>0</td>\n",
       "      <td>30.5</td>\n",
       "      <td>NaN</td>\n",
       "      <td>ALUMINIO</td>\n",
       "      <td>VINHO</td>\n",
       "      <td>NaN</td>\n",
       "      <td>14.0</td>\n",
       "      <td>LA CUISINE</td>\n",
       "      <td>NaN</td>\n",
       "      <td>NaN</td>\n",
       "      <td>NaN</td>\n",
       "      <td>50.0</td>\n",
       "      <td>3.0</td>\n",
       "      <td>NAO</td>\n",
       "      <td>SIM</td>\n",
       "      <td>1.0</td>\n",
       "      <td>PANELA</td>\n",
       "      <td>NAO</td>\n",
       "      <td>199.990000</td>\n",
       "      <td>0.0</td>\n",
       "    </tr>\n",
       "    <tr>\n",
       "      <td>1</td>\n",
       "      <td>22.0</td>\n",
       "      <td>NaN</td>\n",
       "      <td>ALUMINIO</td>\n",
       "      <td>COLORIDO</td>\n",
       "      <td>NaN</td>\n",
       "      <td>24.0</td>\n",
       "      <td>TRAMONTINA</td>\n",
       "      <td>No</td>\n",
       "      <td>no</td>\n",
       "      <td>150.0</td>\n",
       "      <td>40.0</td>\n",
       "      <td>12.0</td>\n",
       "      <td>NAO</td>\n",
       "      <td>NAO</td>\n",
       "      <td>1.0</td>\n",
       "      <td>PIPOQUEIRA</td>\n",
       "      <td>NAO</td>\n",
       "      <td>105.112581</td>\n",
       "      <td>0.0</td>\n",
       "    </tr>\n",
       "    <tr>\n",
       "      <td>2</td>\n",
       "      <td>24.0</td>\n",
       "      <td>NaN</td>\n",
       "      <td>INOX</td>\n",
       "      <td>INOX</td>\n",
       "      <td>NaN</td>\n",
       "      <td>20.0</td>\n",
       "      <td>LA CUISINE</td>\n",
       "      <td>Yes</td>\n",
       "      <td>no</td>\n",
       "      <td>190.0</td>\n",
       "      <td>20.0</td>\n",
       "      <td>3.0</td>\n",
       "      <td>NAO</td>\n",
       "      <td>NAO</td>\n",
       "      <td>1.0</td>\n",
       "      <td>ESPAGUETEIRA</td>\n",
       "      <td>NAO</td>\n",
       "      <td>139.990000</td>\n",
       "      <td>0.0</td>\n",
       "    </tr>\n",
       "    <tr>\n",
       "      <td>3</td>\n",
       "      <td>49.5</td>\n",
       "      <td>6.0</td>\n",
       "      <td>ALUMINIO</td>\n",
       "      <td>VERMELHO</td>\n",
       "      <td>REDONDO</td>\n",
       "      <td>41.5</td>\n",
       "      <td>TRAMONTINA</td>\n",
       "      <td>Yes</td>\n",
       "      <td>NaN</td>\n",
       "      <td>120.0</td>\n",
       "      <td>47.0</td>\n",
       "      <td>NaN</td>\n",
       "      <td>NAO</td>\n",
       "      <td>NAO</td>\n",
       "      <td>1.0</td>\n",
       "      <td>PIPOQUEIRA</td>\n",
       "      <td>NAO</td>\n",
       "      <td>103.293333</td>\n",
       "      <td>1.0</td>\n",
       "    </tr>\n",
       "    <tr>\n",
       "      <td>4</td>\n",
       "      <td>49.5</td>\n",
       "      <td>6.0</td>\n",
       "      <td>ALUMINIO</td>\n",
       "      <td>VERMELHO</td>\n",
       "      <td>REDONDO</td>\n",
       "      <td>41.5</td>\n",
       "      <td>TRAMONTINA</td>\n",
       "      <td>Yes</td>\n",
       "      <td>NaN</td>\n",
       "      <td>120.0</td>\n",
       "      <td>47.0</td>\n",
       "      <td>NaN</td>\n",
       "      <td>NAO</td>\n",
       "      <td>NAO</td>\n",
       "      <td>1.0</td>\n",
       "      <td>PIPOQUEIRA</td>\n",
       "      <td>NAO</td>\n",
       "      <td>103.330242</td>\n",
       "      <td>0.0</td>\n",
       "    </tr>\n",
       "  </tbody>\n",
       "</table>\n",
       "</div>"
      ],
      "text/plain": [
       "   ALTURA  CAPACIDADE_(L) COMPOSICAO       COR  FORMATO  LARGURA       MARCA  \\\n",
       "0    30.5             NaN   ALUMINIO     VINHO      NaN     14.0  LA CUISINE   \n",
       "1    22.0             NaN   ALUMINIO  COLORIDO      NaN     24.0  TRAMONTINA   \n",
       "2    24.0             NaN       INOX      INOX      NaN     20.0  LA CUISINE   \n",
       "3    49.5             6.0   ALUMINIO  VERMELHO  REDONDO     41.5  TRAMONTINA   \n",
       "4    49.5             6.0   ALUMINIO  VERMELHO  REDONDO     41.5  TRAMONTINA   \n",
       "\n",
       "  PARA_LAVA_LOUCAS PARA_MICRO_ONDAS   PESO  PROFUNDIDADE  TEMPO_GARANTIA  \\\n",
       "0              NaN              NaN    NaN          50.0             3.0   \n",
       "1               No               no  150.0          40.0            12.0   \n",
       "2              Yes               no  190.0          20.0             3.0   \n",
       "3              Yes              NaN  120.0          47.0             NaN   \n",
       "4              Yes              NaN  120.0          47.0             NaN   \n",
       "\n",
       "  TEM_FERRO_FUNDIDO TEM_GRELHA  TEM_TAMPA  TIPO_PRODUTO TIPO_WOK  ITEM_PRICE  \\\n",
       "0               NAO        SIM        1.0        PANELA      NAO  199.990000   \n",
       "1               NAO        NAO        1.0    PIPOQUEIRA      NAO  105.112581   \n",
       "2               NAO        NAO        1.0  ESPAGUETEIRA      NAO  139.990000   \n",
       "3               NAO        NAO        1.0    PIPOQUEIRA      NAO  103.293333   \n",
       "4               NAO        NAO        1.0    PIPOQUEIRA      NAO  103.330242   \n",
       "\n",
       "   INTERESTED  \n",
       "0         0.0  \n",
       "1         0.0  \n",
       "2         0.0  \n",
       "3         1.0  \n",
       "4         0.0  "
      ]
     },
     "execution_count": 21,
     "metadata": {},
     "output_type": "execute_result"
    }
   ],
   "source": [
    "dataset.head()"
   ]
  },
  {
   "cell_type": "markdown",
   "metadata": {},
   "source": [
    "Convertendo variável categórica marca para numérica. Convertendo NaNs para a label sem marca"
   ]
  },
  {
   "cell_type": "code",
   "execution_count": 22,
   "metadata": {},
   "outputs": [],
   "source": [
    "dataset['MARCA'] = dataset['MARCA'].fillna('Sem Marca')\n",
    "enconder_1 = LabelEncoder();\n",
    "enconder_1.fit(dataset['MARCA'].values);"
   ]
  },
  {
   "cell_type": "markdown",
   "metadata": {},
   "source": [
    "Verificando se as classes estão corretas"
   ]
  },
  {
   "cell_type": "code",
   "execution_count": 23,
   "metadata": {},
   "outputs": [
    {
     "data": {
      "text/plain": [
       "array(['ALUMINIO FORTALEZA', 'ALUMINIO RAMOS', 'AT.HOME', 'BIALETTI',\n",
       "       'BR HOME', 'BRINOX', 'CERAFLAME', 'CLASSIC HOME', 'CONSUL',\n",
       "       'DONA CHEFA', 'DYNASTY', 'ELECTROLUX', 'EURO', 'EURO HOME',\n",
       "       'FORMA', 'FUMIL', 'HAPPYCALL', 'HELIOS', 'HERCULES', 'JOMAFE',\n",
       "       'LA CUISINE', 'MERIDIONAL', 'MIMO STYLE', 'MTA', 'OXFORD COOKWARE',\n",
       "       'PANELA MINEIRA', 'PANELUX', 'PRAVA', 'PRAVAS', 'ROCHEDO',\n",
       "       'SUN GUIDER', 'Sem Marca', 'TRAMONTINA',\n",
       "       'TRAMONTINA DESIGN COLLECTION', 'VEC', 'ZANELLA'], dtype=object)"
      ]
     },
     "execution_count": 23,
     "metadata": {},
     "output_type": "execute_result"
    }
   ],
   "source": [
    "enconder_1.classes_"
   ]
  },
  {
   "cell_type": "code",
   "execution_count": 24,
   "metadata": {},
   "outputs": [],
   "source": [
    "marca_convertida = enconder_1.transform(dataset['MARCA'].values)"
   ]
  },
  {
   "cell_type": "code",
   "execution_count": 25,
   "metadata": {},
   "outputs": [],
   "source": [
    "dataset['MARCA'] = marca_convertida"
   ]
  },
  {
   "cell_type": "markdown",
   "metadata": {},
   "source": [
    "Convertendo variável categórica COMPOSICAO para numérica. Convertendo NaNs para a label desconhecido"
   ]
  },
  {
   "cell_type": "code",
   "execution_count": 26,
   "metadata": {},
   "outputs": [],
   "source": [
    "dataset['COMPOSICAO'] = dataset['COMPOSICAO'].fillna('Desconhecido')\n",
    "enconder_2 = LabelEncoder();\n",
    "enconder_2.fit(dataset['COMPOSICAO'].values);"
   ]
  },
  {
   "cell_type": "markdown",
   "metadata": {},
   "source": [
    "Verificando se as classe estão corretas"
   ]
  },
  {
   "cell_type": "code",
   "execution_count": 27,
   "metadata": {},
   "outputs": [
    {
     "data": {
      "text/plain": [
       "array(['ACO ESMALTADO', 'ALUMINIO', 'CERAMICA', 'Desconhecido', 'INOX',\n",
       "       'PORCELANA'], dtype=object)"
      ]
     },
     "execution_count": 27,
     "metadata": {},
     "output_type": "execute_result"
    }
   ],
   "source": [
    "enconder_2.classes_"
   ]
  },
  {
   "cell_type": "code",
   "execution_count": 28,
   "metadata": {},
   "outputs": [],
   "source": [
    "composicao_convertida = enconder_2.transform(dataset['COMPOSICAO'].values)"
   ]
  },
  {
   "cell_type": "code",
   "execution_count": 29,
   "metadata": {},
   "outputs": [],
   "source": [
    "dataset['COMPOSICAO'] = composicao_convertida"
   ]
  },
  {
   "cell_type": "markdown",
   "metadata": {},
   "source": [
    "Convertendo variável categórica COR para numérica. Convertendo NaNs para a label desconhecido"
   ]
  },
  {
   "cell_type": "code",
   "execution_count": 30,
   "metadata": {},
   "outputs": [],
   "source": [
    "dataset['COR'] = dataset['COR'].fillna('Desconhecido')\n",
    "enconder_3 = LabelEncoder();\n",
    "enconder_3.fit(dataset['COR'].values);"
   ]
  },
  {
   "cell_type": "markdown",
   "metadata": {},
   "source": [
    "Verificando se as classe estão corretas"
   ]
  },
  {
   "cell_type": "code",
   "execution_count": 31,
   "metadata": {},
   "outputs": [
    {
     "data": {
      "text/plain": [
       "array(['ACACIA', 'AMARELO', 'AZUL', 'BERINGELA', 'BRANCO', 'CEREJA',\n",
       "       'CHOCOLATE', 'CINZA', 'COBRE', 'COLORIDO', 'Desconhecido', 'FENDI',\n",
       "       'GOIABA', 'GRAFITE', 'INOX', 'LARANJA', 'MARROM', 'PRATA', 'PRETO',\n",
       "       'ROSA', 'ROXO', 'TURQUESA', 'VERDE', 'VERMELHO', 'VINHO'],\n",
       "      dtype=object)"
      ]
     },
     "execution_count": 31,
     "metadata": {},
     "output_type": "execute_result"
    }
   ],
   "source": [
    "enconder_3.classes_"
   ]
  },
  {
   "cell_type": "code",
   "execution_count": 32,
   "metadata": {},
   "outputs": [],
   "source": [
    "cor_convertida = enconder_3.transform(dataset['COR'].values)"
   ]
  },
  {
   "cell_type": "code",
   "execution_count": 33,
   "metadata": {},
   "outputs": [],
   "source": [
    "dataset['COR'] = cor_convertida"
   ]
  },
  {
   "cell_type": "markdown",
   "metadata": {},
   "source": [
    "Convertendo variável categórica FORMATO para numérica. Convertendo NaNs para a label Sem Forma"
   ]
  },
  {
   "cell_type": "code",
   "execution_count": 34,
   "metadata": {},
   "outputs": [],
   "source": [
    "dataset['FORMATO'] = dataset['FORMATO'].fillna('Sem Forma')\n",
    "enconder_4 = LabelEncoder();\n",
    "enconder_4.fit(dataset['FORMATO'].values);"
   ]
  },
  {
   "cell_type": "markdown",
   "metadata": {},
   "source": [
    "Verificando se as classe estão corretas"
   ]
  },
  {
   "cell_type": "code",
   "execution_count": 35,
   "metadata": {},
   "outputs": [
    {
     "data": {
      "text/plain": [
       "array(['FRIGIDEIRA', 'OVAL', 'QUADRADO', 'REDONDO', 'RETANGULAR',\n",
       "       'Sem Forma'], dtype=object)"
      ]
     },
     "execution_count": 35,
     "metadata": {},
     "output_type": "execute_result"
    }
   ],
   "source": [
    "enconder_4.classes_"
   ]
  },
  {
   "cell_type": "code",
   "execution_count": 36,
   "metadata": {},
   "outputs": [],
   "source": [
    "forma_convertida = enconder_4.transform(dataset['FORMATO'].values)"
   ]
  },
  {
   "cell_type": "code",
   "execution_count": 37,
   "metadata": {},
   "outputs": [],
   "source": [
    "dataset['FORMATO'] = forma_convertida"
   ]
  },
  {
   "cell_type": "markdown",
   "metadata": {},
   "source": [
    "Convertendo variável categórica PARA_LAVA_LOUCAS para numérica. Convertendo NaNs para a label Talvez. Corrigindo os valores NAO para No"
   ]
  },
  {
   "cell_type": "code",
   "execution_count": 38,
   "metadata": {},
   "outputs": [
    {
     "name": "stderr",
     "output_type": "stream",
     "text": [
      "/anaconda3/lib/python3.7/site-packages/ipykernel_launcher.py:2: SettingWithCopyWarning: \n",
      "A value is trying to be set on a copy of a slice from a DataFrame.\n",
      "Try using .loc[row_indexer,col_indexer] = value instead\n",
      "\n",
      "See the caveats in the documentation: http://pandas.pydata.org/pandas-docs/stable/user_guide/indexing.html#returning-a-view-versus-a-copy\n",
      "  \n"
     ]
    }
   ],
   "source": [
    "dataset['PARA_LAVA_LOUCAS'] = dataset['PARA_LAVA_LOUCAS'].fillna('Talvez')\n",
    "dataset[dataset['PARA_LAVA_LOUCAS'] == 'NAO']['PARA_LAVA_LOUCAS'] = 'No'\n",
    "enconder_5 = LabelEncoder();\n",
    "enconder_5.fit(dataset['PARA_LAVA_LOUCAS'].values);"
   ]
  },
  {
   "cell_type": "markdown",
   "metadata": {},
   "source": [
    "Verificando as classes"
   ]
  },
  {
   "cell_type": "code",
   "execution_count": 39,
   "metadata": {},
   "outputs": [
    {
     "data": {
      "text/plain": [
       "array(['NAO', 'No', 'Talvez', 'Yes'], dtype=object)"
      ]
     },
     "execution_count": 39,
     "metadata": {},
     "output_type": "execute_result"
    }
   ],
   "source": [
    "enconder_5.classes_"
   ]
  },
  {
   "cell_type": "code",
   "execution_count": 40,
   "metadata": {},
   "outputs": [],
   "source": [
    "lavar_louca_convertida = enconder_5.transform(dataset['PARA_LAVA_LOUCAS'].values)"
   ]
  },
  {
   "cell_type": "code",
   "execution_count": 41,
   "metadata": {},
   "outputs": [],
   "source": [
    "dataset['PARA_LAVA_LOUCAS'] = lavar_louca_convertida"
   ]
  },
  {
   "cell_type": "markdown",
   "metadata": {},
   "source": [
    "Convertendo variável categórica PARA_MICRO_ONDAS para numérica. Convertendo NaNs para a label Talvez."
   ]
  },
  {
   "cell_type": "code",
   "execution_count": 42,
   "metadata": {},
   "outputs": [],
   "source": [
    "dataset['PARA_MICRO_ONDAS'] = dataset['PARA_MICRO_ONDAS'].fillna('Talvez')\n",
    "enconder_6 = LabelEncoder();\n",
    "enconder_6.fit(dataset['PARA_MICRO_ONDAS'].values);"
   ]
  },
  {
   "cell_type": "markdown",
   "metadata": {},
   "source": [
    "Verificando as classes"
   ]
  },
  {
   "cell_type": "code",
   "execution_count": 43,
   "metadata": {},
   "outputs": [
    {
     "data": {
      "text/plain": [
       "array(['Talvez', 'no', 'yes'], dtype=object)"
      ]
     },
     "execution_count": 43,
     "metadata": {},
     "output_type": "execute_result"
    }
   ],
   "source": [
    "enconder_6.classes_"
   ]
  },
  {
   "cell_type": "code",
   "execution_count": 44,
   "metadata": {},
   "outputs": [],
   "source": [
    "para_micro_ondas_convertida = enconder_6.transform(dataset['PARA_MICRO_ONDAS'].values)"
   ]
  },
  {
   "cell_type": "code",
   "execution_count": 45,
   "metadata": {},
   "outputs": [],
   "source": [
    "dataset['PARA_MICRO_ONDAS'] = para_micro_ondas_convertida"
   ]
  },
  {
   "cell_type": "markdown",
   "metadata": {},
   "source": [
    "Convertendo variável categórica TEM_FERRO_FUNDIDO para numérica. Convertendo NaNs para a label Talvez."
   ]
  },
  {
   "cell_type": "code",
   "execution_count": 46,
   "metadata": {},
   "outputs": [],
   "source": [
    "dataset['TEM_FERRO_FUNDIDO'] = dataset['TEM_FERRO_FUNDIDO'].fillna('Talvez')\n",
    "enconder_7 = LabelEncoder();\n",
    "enconder_7.fit(dataset['TEM_FERRO_FUNDIDO'].values);"
   ]
  },
  {
   "cell_type": "markdown",
   "metadata": {},
   "source": [
    "Verificando as classes"
   ]
  },
  {
   "cell_type": "code",
   "execution_count": 47,
   "metadata": {},
   "outputs": [
    {
     "data": {
      "text/plain": [
       "array(['NAO', 'SIM'], dtype=object)"
      ]
     },
     "execution_count": 47,
     "metadata": {},
     "output_type": "execute_result"
    }
   ],
   "source": [
    "enconder_7.classes_"
   ]
  },
  {
   "cell_type": "code",
   "execution_count": 48,
   "metadata": {},
   "outputs": [],
   "source": [
    "ferro_fundido_convertida = enconder_7.transform(dataset['TEM_FERRO_FUNDIDO'].values)"
   ]
  },
  {
   "cell_type": "code",
   "execution_count": 49,
   "metadata": {},
   "outputs": [],
   "source": [
    "dataset['TEM_FERRO_FUNDIDO'] = ferro_fundido_convertida"
   ]
  },
  {
   "cell_type": "markdown",
   "metadata": {},
   "source": [
    "Convertendo variável categórica TEM_GRELHA para numérica. Convertendo NaNs para a label Talvez."
   ]
  },
  {
   "cell_type": "code",
   "execution_count": 50,
   "metadata": {},
   "outputs": [],
   "source": [
    "dataset['TEM_GRELHA'] = dataset['TEM_GRELHA'].fillna('Talvez')\n",
    "enconder_8 = LabelEncoder();\n",
    "enconder_8.fit(dataset['TEM_GRELHA'].values);"
   ]
  },
  {
   "cell_type": "markdown",
   "metadata": {},
   "source": [
    "Verificando as classes"
   ]
  },
  {
   "cell_type": "code",
   "execution_count": 51,
   "metadata": {},
   "outputs": [
    {
     "data": {
      "text/plain": [
       "array(['NAO', 'SIM'], dtype=object)"
      ]
     },
     "execution_count": 51,
     "metadata": {},
     "output_type": "execute_result"
    }
   ],
   "source": [
    "enconder_8.classes_"
   ]
  },
  {
   "cell_type": "code",
   "execution_count": 52,
   "metadata": {},
   "outputs": [],
   "source": [
    "grelha_convertida = enconder_8.transform(dataset['TEM_GRELHA'].values)"
   ]
  },
  {
   "cell_type": "code",
   "execution_count": 53,
   "metadata": {},
   "outputs": [],
   "source": [
    "dataset['TEM_GRELHA'] = grelha_convertida"
   ]
  },
  {
   "cell_type": "markdown",
   "metadata": {},
   "source": [
    "Convertendo variável categórica TIPO_PRODUTO para numérica. Convertendo NaNs para a label Desconhecido."
   ]
  },
  {
   "cell_type": "code",
   "execution_count": 54,
   "metadata": {},
   "outputs": [],
   "source": [
    "dataset['TIPO_PRODUTO'] = dataset['TIPO_PRODUTO'].fillna('Desconhecido')\n",
    "enconder_9 = LabelEncoder();\n",
    "enconder_9.fit(dataset['TIPO_PRODUTO'].values);"
   ]
  },
  {
   "cell_type": "markdown",
   "metadata": {},
   "source": [
    "Verificando as classes"
   ]
  },
  {
   "cell_type": "code",
   "execution_count": 55,
   "metadata": {},
   "outputs": [
    {
     "data": {
      "text/plain": [
       "array(['NAO', 'SIM'], dtype=object)"
      ]
     },
     "execution_count": 55,
     "metadata": {},
     "output_type": "execute_result"
    }
   ],
   "source": [
    "enconder_9.classes_"
   ]
  },
  {
   "cell_type": "code",
   "execution_count": 56,
   "metadata": {},
   "outputs": [],
   "source": [
    "tipo_produto_convertida = enconder_9.transform(dataset['TIPO_PRODUTO'].values)"
   ]
  },
  {
   "cell_type": "code",
   "execution_count": 57,
   "metadata": {},
   "outputs": [],
   "source": [
    "dataset['TIPO_PRODUTO'] = tipo_produto_convertida"
   ]
  },
  {
   "cell_type": "markdown",
   "metadata": {},
   "source": [
    "Convertendo variável categórica TIPO_WOK para numérica. Convertendo NaNs para a label Desconhecido."
   ]
  },
  {
   "cell_type": "code",
   "execution_count": 58,
   "metadata": {},
   "outputs": [],
   "source": [
    "dataset['TIPO_WOK'] = dataset['TIPO_WOK'].fillna('Desconhecido')\n",
    "enconder_10 = LabelEncoder();\n",
    "enconder_10.fit(dataset['TIPO_WOK'].values);"
   ]
  },
  {
   "cell_type": "markdown",
   "metadata": {},
   "source": [
    "Verificando as classes"
   ]
  },
  {
   "cell_type": "code",
   "execution_count": 59,
   "metadata": {},
   "outputs": [
    {
     "data": {
      "text/plain": [
       "array(['NAO', 'SIM'], dtype=object)"
      ]
     },
     "execution_count": 59,
     "metadata": {},
     "output_type": "execute_result"
    }
   ],
   "source": [
    "enconder_10.classes_"
   ]
  },
  {
   "cell_type": "code",
   "execution_count": 60,
   "metadata": {},
   "outputs": [],
   "source": [
    "tipo_wok_convertida = enconder_10.transform(dataset['TIPO_WOK'].values)"
   ]
  },
  {
   "cell_type": "code",
   "execution_count": 61,
   "metadata": {},
   "outputs": [],
   "source": [
    "dataset['TIPO_WOK'] = tipo_wok_convertida"
   ]
  },
  {
   "cell_type": "markdown",
   "metadata": {},
   "source": [
    "Verificando a quantidade de NaNs presentes nas variáveis ALTURA, CAPACIDADE_(L), LARGURA, PESO, PROFUNDIDADE, TEMPO_GARANTIA e ITEM_PRICE"
   ]
  },
  {
   "cell_type": "code",
   "execution_count": 62,
   "metadata": {},
   "outputs": [
    {
     "name": "stdout",
     "output_type": "stream",
     "text": [
      "Esta coluna possui 9268 NaNs, o que corresponde a 5.14 % do total\n"
     ]
    }
   ],
   "source": [
    "n_nans_altura = dataset['ALTURA'].isna().sum()\n",
    "n_nans_altura_normalizado = n_nans_altura * 100.0 / linhas\n",
    "print(\"Esta coluna possui {} NaNs, o que corresponde a {:0,.2f} % do total\".format(n_nans_altura,n_nans_altura_normalizado))"
   ]
  },
  {
   "cell_type": "code",
   "execution_count": 63,
   "metadata": {},
   "outputs": [
    {
     "name": "stdout",
     "output_type": "stream",
     "text": [
      "Esta coluna possui 103604 NaNs, o que corresponde a 57.47 % do total\n"
     ]
    }
   ],
   "source": [
    "n_nans_capacidade = dataset['CAPACIDADE_(L)'].isna().sum()\n",
    "n_nans_capacidade_normalizado = n_nans_capacidade * 100.0 / linhas\n",
    "print(\"Esta coluna possui {} NaNs, o que corresponde a {:0,.2f} % do total\".format(n_nans_capacidade,n_nans_capacidade_normalizado))"
   ]
  },
  {
   "cell_type": "code",
   "execution_count": 64,
   "metadata": {},
   "outputs": [
    {
     "name": "stdout",
     "output_type": "stream",
     "text": [
      "Esta coluna possui 9268 NaNs, o que corresponde a 5.14 % do total\n"
     ]
    }
   ],
   "source": [
    "n_nans_largura = dataset['LARGURA'].isna().sum()\n",
    "n_nans_largura_normalizado = n_nans_largura * 100.0 / linhas\n",
    "print(\"Esta coluna possui {} NaNs, o que corresponde a {:0,.2f} % do total\".format(n_nans_largura,n_nans_largura_normalizado))"
   ]
  },
  {
   "cell_type": "code",
   "execution_count": 65,
   "metadata": {},
   "outputs": [
    {
     "name": "stdout",
     "output_type": "stream",
     "text": [
      "Esta coluna possui 81751 NaNs, o que corresponde a 45.35 % do total\n"
     ]
    }
   ],
   "source": [
    "n_nans_peso = dataset['PESO'].isna().sum()\n",
    "n_nans_peso_normalizado = n_nans_peso * 100.0 / linhas\n",
    "print(\"Esta coluna possui {} NaNs, o que corresponde a {:0,.2f} % do total\".format(n_nans_peso,n_nans_peso_normalizado))"
   ]
  },
  {
   "cell_type": "code",
   "execution_count": 66,
   "metadata": {},
   "outputs": [
    {
     "name": "stdout",
     "output_type": "stream",
     "text": [
      "Esta coluna possui 9268 NaNs, o que corresponde a 5.14 % do total\n"
     ]
    }
   ],
   "source": [
    "n_nans_profundidade = dataset['PROFUNDIDADE'].isna().sum()\n",
    "n_nans_profundidade_normalizado = n_nans_profundidade * 100.0 / linhas\n",
    "print(\"Esta coluna possui {} NaNs, o que corresponde a {:0,.2f} % do total\".format(n_nans_profundidade,n_nans_profundidade_normalizado))"
   ]
  },
  {
   "cell_type": "code",
   "execution_count": 67,
   "metadata": {},
   "outputs": [
    {
     "name": "stdout",
     "output_type": "stream",
     "text": [
      "Esta coluna possui 57505 NaNs, o que corresponde a 31.90 % do total\n"
     ]
    }
   ],
   "source": [
    "n_nans_garantia = dataset['TEMPO_GARANTIA'].isna().sum()\n",
    "n_nans_garantia_normalizado = n_nans_garantia * 100.0 / linhas\n",
    "print(\"Esta coluna possui {} NaNs, o que corresponde a {:0,.2f} % do total\".format(n_nans_garantia,n_nans_garantia_normalizado))"
   ]
  },
  {
   "cell_type": "code",
   "execution_count": 68,
   "metadata": {},
   "outputs": [
    {
     "name": "stdout",
     "output_type": "stream",
     "text": [
      "Esta coluna possui 13097 NaNs, o que corresponde a 7.27 % do total\n"
     ]
    }
   ],
   "source": [
    "n_nans_preco = dataset['ITEM_PRICE'].isna().sum()\n",
    "n_nans_preco_normalizado = n_nans_preco * 100.0 / linhas\n",
    "print(\"Esta coluna possui {} NaNs, o que corresponde a {:0,.2f} % do total\".format(n_nans_preco,n_nans_preco_normalizado))"
   ]
  },
  {
   "cell_type": "markdown",
   "metadata": {},
   "source": [
    "Substituindo NaNs utilizando o método backward propagation"
   ]
  },
  {
   "cell_type": "code",
   "execution_count": 82,
   "metadata": {},
   "outputs": [],
   "source": [
    "dataset['ITEM_PRICE'] = dataset['ITEM_PRICE'].fillna(method='bfill')\n",
    "dataset['TEMPO_GARANTIA'] = dataset['TEMPO_GARANTIA'].fillna(method='bfill')\n",
    "dataset['PROFUNDIDADE'] = dataset['PROFUNDIDADE'].fillna(method='bfill')\n",
    "dataset['PESO'] = dataset['PESO'].fillna(method='bfill')\n",
    "dataset['LARGURA'] = dataset['LARGURA'].fillna(method='bfill')\n",
    "dataset['CAPACIDADE_(L)'] = dataset['CAPACIDADE_(L)'].fillna(method='bfill')\n",
    "dataset['ALTURA'] = dataset['ALTURA'].fillna(method='bfill')"
   ]
  },
  {
   "cell_type": "markdown",
   "metadata": {},
   "source": [
    "Verificando se todos os NaNs foram remodidos"
   ]
  },
  {
   "cell_type": "code",
   "execution_count": 83,
   "metadata": {},
   "outputs": [
    {
     "data": {
      "text/plain": [
       "ALTURA               0\n",
       "CAPACIDADE_(L)       0\n",
       "COMPOSICAO           0\n",
       "COR                  0\n",
       "FORMATO              0\n",
       "LARGURA              0\n",
       "MARCA                0\n",
       "PARA_LAVA_LOUCAS     0\n",
       "PARA_MICRO_ONDAS     0\n",
       "PESO                 0\n",
       "PROFUNDIDADE         0\n",
       "TEMPO_GARANTIA       0\n",
       "TEM_FERRO_FUNDIDO    0\n",
       "TEM_GRELHA           0\n",
       "TEM_TAMPA            0\n",
       "TIPO_PRODUTO         0\n",
       "TIPO_WOK             0\n",
       "ITEM_PRICE           0\n",
       "INTERESTED           0\n",
       "dtype: int64"
      ]
     },
     "execution_count": 83,
     "metadata": {},
     "output_type": "execute_result"
    }
   ],
   "source": [
    "dataset.isna().sum()"
   ]
  },
  {
   "cell_type": "markdown",
   "metadata": {},
   "source": [
    "Uma vez que todas as variáveis foram exploras e corrigidas, podemos passar a explorar técnicas de machine learning. Como o problema consiste em determinar se o produto será interessante ou não para o cliente, o método de regressão logística parece ser um bom método para se implementar inicialmente"
   ]
  },
  {
   "cell_type": "markdown",
   "metadata": {},
   "source": [
    "Primeiramente devemos determinar as variaveis X e Y. Para o nosso problema a variável Y é INTERESTED e a variável X são as demais colunas"
   ]
  },
  {
   "cell_type": "code",
   "execution_count": 84,
   "metadata": {},
   "outputs": [],
   "source": [
    "X = dataset.drop('INTERESTED',axis=1).values\n",
    "Y = dataset['INTERESTED'].values"
   ]
  },
  {
   "cell_type": "markdown",
   "metadata": {},
   "source": [
    "Vamos gerar uma amostra de treino e teste utilizando a função train_test_split. A amostra de treino terá 70% dos dados e a amostra de teste terá 30% dos dados"
   ]
  },
  {
   "cell_type": "code",
   "execution_count": 85,
   "metadata": {},
   "outputs": [],
   "source": [
    "from sklearn.model_selection import train_test_split"
   ]
  },
  {
   "cell_type": "code",
   "execution_count": 86,
   "metadata": {},
   "outputs": [],
   "source": [
    "X_treino, X_teste, Y_treino, Y_teste = train_test_split(X, Y, test_size=0.30, random_state=42)"
   ]
  },
  {
   "cell_type": "markdown",
   "metadata": {},
   "source": [
    "Importanto biblioteca da Regressão Logística e realizando o procedimento da regressão utilizando os valores padrões da função. Iremos mais adiante obter os melhores parâmetros desta função"
   ]
  },
  {
   "cell_type": "code",
   "execution_count": 87,
   "metadata": {},
   "outputs": [],
   "source": [
    "from sklearn.linear_model import LogisticRegression"
   ]
  },
  {
   "cell_type": "code",
   "execution_count": 88,
   "metadata": {},
   "outputs": [],
   "source": [
    "logreg = LogisticRegression(penalty='l2',solver='newton-cg',max_iter=10000)"
   ]
  },
  {
   "cell_type": "code",
   "execution_count": 89,
   "metadata": {},
   "outputs": [
    {
     "data": {
      "text/plain": [
       "LogisticRegression(C=1.0, class_weight=None, dual=False, fit_intercept=True,\n",
       "                   intercept_scaling=1, l1_ratio=None, max_iter=10000,\n",
       "                   multi_class='warn', n_jobs=None, penalty='l2',\n",
       "                   random_state=None, solver='newton-cg', tol=0.0001, verbose=0,\n",
       "                   warm_start=False)"
      ]
     },
     "execution_count": 89,
     "metadata": {},
     "output_type": "execute_result"
    }
   ],
   "source": [
    "logreg.fit(X_treino,Y_treino)"
   ]
  },
  {
   "cell_type": "code",
   "execution_count": 90,
   "metadata": {},
   "outputs": [],
   "source": [
    "previsao_logref = logreg.predict(X_teste)"
   ]
  },
  {
   "cell_type": "markdown",
   "metadata": {},
   "source": [
    "Utilizando a matriz de confusão para comparar os resultados"
   ]
  },
  {
   "cell_type": "code",
   "execution_count": 91,
   "metadata": {},
   "outputs": [],
   "source": [
    "from sklearn.metrics import confusion_matrix"
   ]
  },
  {
   "cell_type": "code",
   "execution_count": 92,
   "metadata": {},
   "outputs": [
    {
     "name": "stdout",
     "output_type": "stream",
     "text": [
      "[[49381     0]\n",
      " [ 4702     0]]\n"
     ]
    }
   ],
   "source": [
    "matriz_confusao = confusion_matrix(Y_teste, previsao_logref)\n",
    "print(matriz_confusao)"
   ]
  },
  {
   "cell_type": "markdown",
   "metadata": {},
   "source": [
    "# Observamos que quando utilizamos todas as colunas, nenhum verdadeiro negativo é encontrado. Iremos agora testar incluindo apenas as colunas que se mostraram interessantes para o estudo"
   ]
  },
  {
   "cell_type": "code",
   "execution_count": 93,
   "metadata": {},
   "outputs": [],
   "source": [
    "X_cols = ['MARCA','FORMATO','COR','TIPO_PRODUTO','COMPOSICAO']"
   ]
  },
  {
   "cell_type": "code",
   "execution_count": 94,
   "metadata": {},
   "outputs": [],
   "source": [
    "X_new = dataset[X_cols].values\n",
    "Y_new = dataset['INTERESTED'].values"
   ]
  },
  {
   "cell_type": "code",
   "execution_count": 95,
   "metadata": {},
   "outputs": [],
   "source": [
    "X_treino2, X_teste2, Y_treino2, Y_teste2 = train_test_split(X_new, Y_new, test_size=0.30, random_state=42)"
   ]
  },
  {
   "cell_type": "code",
   "execution_count": 96,
   "metadata": {},
   "outputs": [],
   "source": [
    "logreg2 = LogisticRegression(penalty='l2',solver='newton-cg',max_iter=10000)"
   ]
  },
  {
   "cell_type": "code",
   "execution_count": 97,
   "metadata": {},
   "outputs": [
    {
     "data": {
      "text/plain": [
       "LogisticRegression(C=1.0, class_weight=None, dual=False, fit_intercept=True,\n",
       "                   intercept_scaling=1, l1_ratio=None, max_iter=10000,\n",
       "                   multi_class='warn', n_jobs=None, penalty='l2',\n",
       "                   random_state=None, solver='newton-cg', tol=0.0001, verbose=0,\n",
       "                   warm_start=False)"
      ]
     },
     "execution_count": 97,
     "metadata": {},
     "output_type": "execute_result"
    }
   ],
   "source": [
    "logreg2.fit(X_treino2,Y_treino2)"
   ]
  },
  {
   "cell_type": "code",
   "execution_count": 98,
   "metadata": {},
   "outputs": [],
   "source": [
    "previsao_logref_2 = logreg2.predict(X_teste2)"
   ]
  },
  {
   "cell_type": "code",
   "execution_count": 99,
   "metadata": {},
   "outputs": [
    {
     "name": "stdout",
     "output_type": "stream",
     "text": [
      "[[49381     0]\n",
      " [ 4702     0]]\n"
     ]
    }
   ],
   "source": [
    "matriz_confusao = confusion_matrix(Y_teste2, previsao_logref_2)\n",
    "print(matriz_confusao)"
   ]
  },
  {
   "cell_type": "markdown",
   "metadata": {},
   "source": [
    "# Observamos que mesmo neste caso a regressão logistica falhou em prever os verdadeiros negativos"
   ]
  },
  {
   "cell_type": "markdown",
   "metadata": {},
   "source": [
    "Vamos agora utilizar o Decision Tree Classifier para tentar obter uma melhor performance no modelo"
   ]
  },
  {
   "cell_type": "code",
   "execution_count": 100,
   "metadata": {},
   "outputs": [],
   "source": [
    "from sklearn.tree import DecisionTreeClassifier"
   ]
  },
  {
   "cell_type": "code",
   "execution_count": 101,
   "metadata": {},
   "outputs": [],
   "source": [
    "dtc = DecisionTreeClassifier(criterion='entropy',max_depth=20000,max_features='log2')"
   ]
  },
  {
   "cell_type": "code",
   "execution_count": 102,
   "metadata": {},
   "outputs": [
    {
     "data": {
      "text/plain": [
       "DecisionTreeClassifier(class_weight=None, criterion='entropy', max_depth=20000,\n",
       "                       max_features='log2', max_leaf_nodes=None,\n",
       "                       min_impurity_decrease=0.0, min_impurity_split=None,\n",
       "                       min_samples_leaf=1, min_samples_split=2,\n",
       "                       min_weight_fraction_leaf=0.0, presort=False,\n",
       "                       random_state=None, splitter='best')"
      ]
     },
     "execution_count": 102,
     "metadata": {},
     "output_type": "execute_result"
    }
   ],
   "source": [
    "dtc.fit(X_treino2,Y_treino2)"
   ]
  },
  {
   "cell_type": "code",
   "execution_count": 103,
   "metadata": {},
   "outputs": [],
   "source": [
    "previsao_dtc = dtc.predict(X_teste2)"
   ]
  },
  {
   "cell_type": "code",
   "execution_count": 104,
   "metadata": {},
   "outputs": [
    {
     "name": "stdout",
     "output_type": "stream",
     "text": [
      "[[49381     0]\n",
      " [ 4702     0]]\n"
     ]
    }
   ],
   "source": [
    "matriz_confusao_dtc = confusion_matrix(Y_teste2, previsao_dtc)\n",
    "print(matriz_confusao_dtc)"
   ]
  },
  {
   "cell_type": "markdown",
   "metadata": {},
   "source": [
    "# Observamos que o mesmo problema ocorre com o Decision Tree Classifier"
   ]
  },
  {
   "cell_type": "markdown",
   "metadata": {},
   "source": [
    "Testaremos agora o Random Forest Classifier antes de implementarmos a rede neural"
   ]
  },
  {
   "cell_type": "code",
   "execution_count": 105,
   "metadata": {},
   "outputs": [],
   "source": [
    "from sklearn.ensemble import RandomForestClassifier"
   ]
  },
  {
   "cell_type": "code",
   "execution_count": 106,
   "metadata": {},
   "outputs": [],
   "source": [
    "rfc = RandomForestClassifier(n_estimators=1000, max_depth=500,criterion='entropy')"
   ]
  },
  {
   "cell_type": "code",
   "execution_count": 107,
   "metadata": {},
   "outputs": [
    {
     "data": {
      "text/plain": [
       "RandomForestClassifier(bootstrap=True, class_weight=None, criterion='entropy',\n",
       "                       max_depth=500, max_features='auto', max_leaf_nodes=None,\n",
       "                       min_impurity_decrease=0.0, min_impurity_split=None,\n",
       "                       min_samples_leaf=1, min_samples_split=2,\n",
       "                       min_weight_fraction_leaf=0.0, n_estimators=1000,\n",
       "                       n_jobs=None, oob_score=False, random_state=None,\n",
       "                       verbose=0, warm_start=False)"
      ]
     },
     "execution_count": 107,
     "metadata": {},
     "output_type": "execute_result"
    }
   ],
   "source": [
    "rfc.fit(X_teste2,Y_teste2)"
   ]
  },
  {
   "cell_type": "code",
   "execution_count": 108,
   "metadata": {},
   "outputs": [],
   "source": [
    "previsao_rfc = rfc.predict(X_teste2)"
   ]
  },
  {
   "cell_type": "code",
   "execution_count": 109,
   "metadata": {},
   "outputs": [
    {
     "name": "stdout",
     "output_type": "stream",
     "text": [
      "[[49381     0]\n",
      " [ 4699     3]]\n"
     ]
    }
   ],
   "source": [
    "matriz_confusao_dtc = confusion_matrix(Y_teste2, previsao_rfc)\n",
    "print(matriz_confusao_dtc)"
   ]
  },
  {
   "cell_type": "markdown",
   "metadata": {},
   "source": [
    "# O random forest classifier apresentou um resultado melhor comparado aos demais, porém, ainda assim falha em prever os verdadeiros negativos"
   ]
  },
  {
   "cell_type": "markdown",
   "metadata": {},
   "source": [
    "Vamos agora implementar uma rede neural utilizando o Keras"
   ]
  },
  {
   "cell_type": "code",
   "execution_count": 176,
   "metadata": {},
   "outputs": [],
   "source": [
    "from keras.models import Sequential\n",
    "from keras.layers import Dense,LeakyReLU,ReLU\n",
    "from keras.wrappers.scikit_learn import KerasClassifier\n",
    "from sklearn.model_selection import cross_val_score\n",
    "from sklearn.model_selection import KFold\n",
    "from keras.layers.advanced_activations import PReLU\n",
    "from keras.optimizers import SGD\n",
    "from keras.callbacks import ReduceLROnPlateau"
   ]
  },
  {
   "cell_type": "code",
   "execution_count": 219,
   "metadata": {},
   "outputs": [],
   "source": [
    "def modelo_keras():\n",
    "    model = Sequential()\n",
    "    model.add(Dense(64, input_dim=18, activation='tanh'))\n",
    "    model.add(Dense(128,activation='tanh'))\n",
    "    model.add(Dense(1, activation='sigmoid'))\n",
    "    model.compile(loss='binary_crossentropy', optimizer='adam', metrics=['accuracy','mse','mae','mape'])\n",
    "    return model"
   ]
  },
  {
   "cell_type": "code",
   "execution_count": 222,
   "metadata": {},
   "outputs": [
    {
     "name": "stdout",
     "output_type": "stream",
     "text": [
      "Train on 126192 samples, validate on 54083 samples\n",
      "Epoch 1/10\n",
      "126192/126192 [==============================] - 4s 35us/step - loss: 0.2959 - acc: 0.9128 - mean_squared_error: 0.0793 - mean_absolute_error: 0.1572 - mean_absolute_percentage_error: 79013939.2644 - val_loss: 0.2972 - val_acc: 0.9131 - val_mean_squared_error: 0.0796 - val_mean_absolute_error: 0.1435 - val_mean_absolute_percentage_error: 62705775.0173\n",
      "Epoch 2/10\n",
      "126192/126192 [==============================] - 3s 21us/step - loss: 0.2930 - acc: 0.9142 - mean_squared_error: 0.0785 - mean_absolute_error: 0.1564 - mean_absolute_percentage_error: 78187448.4619 - val_loss: 0.2954 - val_acc: 0.9131 - val_mean_squared_error: 0.0794 - val_mean_absolute_error: 0.1683 - val_mean_absolute_percentage_error: 90258480.9156\n",
      "Epoch 3/10\n",
      "126192/126192 [==============================] - 3s 22us/step - loss: 0.2923 - acc: 0.9142 - mean_squared_error: 0.0784 - mean_absolute_error: 0.1564 - mean_absolute_percentage_error: 78200697.8671 - val_loss: 0.2951 - val_acc: 0.9131 - val_mean_squared_error: 0.0794 - val_mean_absolute_error: 0.1679 - val_mean_absolute_percentage_error: 89756913.2144\n",
      "Epoch 4/10\n",
      "126192/126192 [==============================] - 3s 23us/step - loss: 0.2920 - acc: 0.9142 - mean_squared_error: 0.0783 - mean_absolute_error: 0.1563 - mean_absolute_percentage_error: 78161708.2593 - val_loss: 0.2972 - val_acc: 0.9131 - val_mean_squared_error: 0.0798 - val_mean_absolute_error: 0.1783 - val_mean_absolute_percentage_error: 101296476.8478\n",
      "Epoch 5/10\n",
      "126192/126192 [==============================] - 3s 22us/step - loss: 0.2919 - acc: 0.9142 - mean_squared_error: 0.0783 - mean_absolute_error: 0.1564 - mean_absolute_percentage_error: 78171914.4422 - val_loss: 0.2948 - val_acc: 0.9131 - val_mean_squared_error: 0.0793 - val_mean_absolute_error: 0.1666 - val_mean_absolute_percentage_error: 88292076.5955\n",
      "Epoch 6/10\n",
      "126192/126192 [==============================] - 3s 22us/step - loss: 0.2922 - acc: 0.9142 - mean_squared_error: 0.0784 - mean_absolute_error: 0.1564 - mean_absolute_percentage_error: 78209877.4005 - val_loss: 0.2949 - val_acc: 0.9131 - val_mean_squared_error: 0.0793 - val_mean_absolute_error: 0.1690 - val_mean_absolute_percentage_error: 90963836.6061\n",
      "Epoch 7/10\n",
      "126192/126192 [==============================] - 3s 23us/step - loss: 0.2920 - acc: 0.9142 - mean_squared_error: 0.0783 - mean_absolute_error: 0.1564 - mean_absolute_percentage_error: 78199161.8922 - val_loss: 0.2945 - val_acc: 0.9131 - val_mean_squared_error: 0.0793 - val_mean_absolute_error: 0.1626 - val_mean_absolute_percentage_error: 83868730.5683\n",
      "Epoch 8/10\n",
      "126192/126192 [==============================] - 3s 22us/step - loss: 0.2918 - acc: 0.9142 - mean_squared_error: 0.0783 - mean_absolute_error: 0.1565 - mean_absolute_percentage_error: 78303852.0011 - val_loss: 0.2963 - val_acc: 0.9131 - val_mean_squared_error: 0.0795 - val_mean_absolute_error: 0.1431 - val_mean_absolute_percentage_error: 62295351.4781\n",
      "Epoch 9/10\n",
      "126192/126192 [==============================] - 3s 22us/step - loss: 0.2920 - acc: 0.9142 - mean_squared_error: 0.0783 - mean_absolute_error: 0.1564 - mean_absolute_percentage_error: 78234695.5656 - val_loss: 0.2950 - val_acc: 0.9131 - val_mean_squared_error: 0.0793 - val_mean_absolute_error: 0.1493 - val_mean_absolute_percentage_error: 69170196.3021\n",
      "Epoch 10/10\n",
      "126192/126192 [==============================] - 3s 23us/step - loss: 0.2920 - acc: 0.9142 - mean_squared_error: 0.0783 - mean_absolute_error: 0.1564 - mean_absolute_percentage_error: 78143418.0870 - val_loss: 0.2938 - val_acc: 0.9131 - val_mean_squared_error: 0.0792 - val_mean_absolute_error: 0.1600 - val_mean_absolute_percentage_error: 80992779.6801\n"
     ]
    },
    {
     "data": {
      "text/plain": [
       "<keras.callbacks.History at 0x1a4e5227d0>"
      ]
     },
     "execution_count": 222,
     "metadata": {},
     "output_type": "execute_result"
    }
   ],
   "source": [
    "modelo = modelo_keras()\n",
    "modelo.fit(X_treino, Y_treino, epochs=10, batch_size=100, validation_data=(X_teste, Y_teste))"
   ]
  },
  {
   "cell_type": "code",
   "execution_count": 223,
   "metadata": {},
   "outputs": [
    {
     "name": "stdout",
     "output_type": "stream",
     "text": [
      "126192/126192 [==============================] - 4s 29us/step\n"
     ]
    }
   ],
   "source": [
    "loss_keras, precisao_keras, mse_keras, mae_keras,mape_keras = modelo.evaluate(X_treino, Y_treino)"
   ]
  },
  {
   "cell_type": "code",
   "execution_count": 224,
   "metadata": {},
   "outputs": [
    {
     "name": "stdout",
     "output_type": "stream",
     "text": [
      "Precisao: 91.42\n",
      "Loss: 29.09\n",
      "MSE: 7.81\n",
      "MAE: 15.90\n",
      "MAPE: 8114898107.47\n"
     ]
    }
   ],
   "source": [
    "print('Precisao: %.2f' % (precisao_keras*100))\n",
    "print('Loss: %.2f' % (loss_keras*100))\n",
    "print('MSE: %.2f' % (mse_keras*100))\n",
    "print('MAE: %.2f' % (mae_keras*100))\n",
    "print('MAPE: %.2f' % (mape_keras*100))"
   ]
  },
  {
   "cell_type": "code",
   "execution_count": 225,
   "metadata": {},
   "outputs": [],
   "source": [
    "previsao_keras = modelo.predict_classes(X_teste)"
   ]
  },
  {
   "cell_type": "code",
   "execution_count": 226,
   "metadata": {},
   "outputs": [
    {
     "name": "stdout",
     "output_type": "stream",
     "text": [
      "[[49381     0]\n",
      " [ 4702     0]]\n"
     ]
    }
   ],
   "source": [
    "matriz_confusao_keras = confusion_matrix(Y_teste, previsao_keras)\n",
    "print(matriz_confusao_keras)"
   ]
  },
  {
   "cell_type": "code",
   "execution_count": 230,
   "metadata": {},
   "outputs": [],
   "source": [
    "X_cols = ['TIPO_PRODUTO','ITEM_PRICE','COMPOSICAO']#'ALTURA','PESO','ITEM_PRICE','FORMATO','TIPO_PRODUTO','COMPOSICAO']\n",
    "X_new2 = dataset[X_cols].values\n",
    "Y_new2 = dataset['INTERESTED'].values\n",
    "X_treino3, X_teste3, Y_treino3, Y_teste3 = train_test_split(X_new2, Y_new2, test_size=0.30, random_state=42)"
   ]
  },
  {
   "cell_type": "code",
   "execution_count": 231,
   "metadata": {},
   "outputs": [],
   "source": [
    "def modelo2_keras():\n",
    "    model = Sequential()\n",
    "    model.add(Dense(32, input_dim=3))\n",
    "    model.add(ReLU())\n",
    "    model.add(Dense(64))\n",
    "    model.add(ReLU())\n",
    "    model.add(Dense(1, activation='sigmoid'))\n",
    "    sgd = SGD(lr=0.1, decay=1e-6, momentum=0.9, nesterov=True)\n",
    "    model.compile(loss='binary_crossentropy', optimizer=sgd, metrics=['accuracy','mse','mae','mape'])\n",
    "    return model"
   ]
  },
  {
   "cell_type": "code",
   "execution_count": 234,
   "metadata": {},
   "outputs": [
    {
     "name": "stdout",
     "output_type": "stream",
     "text": [
      "Train on 126192 samples, validate on 54083 samples\n",
      "Epoch 1/10\n",
      "126192/126192 [==============================] - 5s 39us/step - loss: 1.3848 - acc: 0.9135 - mean_squared_error: 0.0864 - mean_absolute_error: 0.0864 - mean_absolute_percentage_error: 707981.3380 - val_loss: 1.4013 - val_acc: 0.9131 - val_mean_squared_error: 0.0869 - val_mean_absolute_error: 0.0869 - val_mean_absolute_percentage_error: 8.6940\n",
      "Epoch 2/10\n",
      "126192/126192 [==============================] - 3s 28us/step - loss: 1.3826 - acc: 0.9142 - mean_squared_error: 0.0858 - mean_absolute_error: 0.0858 - mean_absolute_percentage_error: 8.5782 - val_loss: 1.4013 - val_acc: 0.9131 - val_mean_squared_error: 0.0869 - val_mean_absolute_error: 0.0869 - val_mean_absolute_percentage_error: 8.6940\n",
      "Epoch 3/10\n",
      "126192/126192 [==============================] - 3s 27us/step - loss: 1.3826 - acc: 0.9142 - mean_squared_error: 0.0858 - mean_absolute_error: 0.0858 - mean_absolute_percentage_error: 8.5782 - val_loss: 1.4013 - val_acc: 0.9131 - val_mean_squared_error: 0.0869 - val_mean_absolute_error: 0.0869 - val_mean_absolute_percentage_error: 8.6940\n",
      "Epoch 4/10\n",
      "126192/126192 [==============================] - 5s 40us/step - loss: 1.3826 - acc: 0.9142 - mean_squared_error: 0.0858 - mean_absolute_error: 0.0858 - mean_absolute_percentage_error: 8.5782 - val_loss: 1.4013 - val_acc: 0.9131 - val_mean_squared_error: 0.0869 - val_mean_absolute_error: 0.0869 - val_mean_absolute_percentage_error: 8.6940\n",
      "\n",
      "Epoch 00004: ReduceLROnPlateau reducing learning rate to 0.020000000298023225.\n",
      "Epoch 5/10\n",
      "126192/126192 [==============================] - 5s 37us/step - loss: 1.3826 - acc: 0.9142 - mean_squared_error: 0.0858 - mean_absolute_error: 0.0858 - mean_absolute_percentage_error: 8.5782 - val_loss: 1.4013 - val_acc: 0.9131 - val_mean_squared_error: 0.0869 - val_mean_absolute_error: 0.0869 - val_mean_absolute_percentage_error: 8.6940\n",
      "Epoch 6/10\n",
      "126192/126192 [==============================] - 5s 39us/step - loss: 1.3826 - acc: 0.9142 - mean_squared_error: 0.0858 - mean_absolute_error: 0.0858 - mean_absolute_percentage_error: 8.5782 - val_loss: 1.4013 - val_acc: 0.9131 - val_mean_squared_error: 0.0869 - val_mean_absolute_error: 0.0869 - val_mean_absolute_percentage_error: 8.6940\n",
      "Epoch 7/10\n",
      "126192/126192 [==============================] - 4s 32us/step - loss: 1.3826 - acc: 0.9142 - mean_squared_error: 0.0858 - mean_absolute_error: 0.0858 - mean_absolute_percentage_error: 8.5782 - val_loss: 1.4013 - val_acc: 0.9131 - val_mean_squared_error: 0.0869 - val_mean_absolute_error: 0.0869 - val_mean_absolute_percentage_error: 8.6940\n",
      "\n",
      "Epoch 00007: ReduceLROnPlateau reducing learning rate to 0.003999999910593033.\n",
      "Epoch 8/10\n",
      "126192/126192 [==============================] - 5s 38us/step - loss: 1.3826 - acc: 0.9142 - mean_squared_error: 0.0858 - mean_absolute_error: 0.0858 - mean_absolute_percentage_error: 8.5782 - val_loss: 1.4013 - val_acc: 0.9131 - val_mean_squared_error: 0.0869 - val_mean_absolute_error: 0.0869 - val_mean_absolute_percentage_error: 8.6940\n",
      "Epoch 9/10\n",
      "126192/126192 [==============================] - 4s 36us/step - loss: 1.3826 - acc: 0.9142 - mean_squared_error: 0.0858 - mean_absolute_error: 0.0858 - mean_absolute_percentage_error: 8.5782 - val_loss: 1.4013 - val_acc: 0.9131 - val_mean_squared_error: 0.0869 - val_mean_absolute_error: 0.0869 - val_mean_absolute_percentage_error: 8.6940\n",
      "Epoch 10/10\n",
      "126192/126192 [==============================] - 5s 38us/step - loss: 1.3826 - acc: 0.9142 - mean_squared_error: 0.0858 - mean_absolute_error: 0.0858 - mean_absolute_percentage_error: 8.5782 - val_loss: 1.4013 - val_acc: 0.9131 - val_mean_squared_error: 0.0869 - val_mean_absolute_error: 0.0869 - val_mean_absolute_percentage_error: 8.6940\n",
      "\n",
      "Epoch 00010: ReduceLROnPlateau reducing learning rate to 0.0007999999448657036.\n"
     ]
    },
    {
     "data": {
      "text/plain": [
       "<keras.callbacks.History at 0x1a5755ef10>"
      ]
     },
     "execution_count": 234,
     "metadata": {},
     "output_type": "execute_result"
    }
   ],
   "source": [
    "modelo2 = modelo2_keras()\n",
    "learning_rate_reduction = ReduceLROnPlateau(monitor='val_acc', patience=3, verbose=1, factor=0.2, mode='auto')\n",
    "modelo2.fit(X_treino3, Y_treino3, epochs=10, batch_size=100, callbacks=[learning_rate_reduction], validation_data=(X_teste3, Y_teste3))"
   ]
  },
  {
   "cell_type": "code",
   "execution_count": 235,
   "metadata": {},
   "outputs": [
    {
     "name": "stdout",
     "output_type": "stream",
     "text": [
      "126192/126192 [==============================] - 4s 34us/step\n"
     ]
    }
   ],
   "source": [
    "loss_keras2, precisao_keras2, mse_keras2, mae_keras2,mape_keras2 = modelo2.evaluate(X_treino3, Y_treino3)"
   ]
  },
  {
   "cell_type": "code",
   "execution_count": 236,
   "metadata": {},
   "outputs": [
    {
     "name": "stdout",
     "output_type": "stream",
     "text": [
      "Precisao: 91.42\n",
      "Loss: 138.26\n",
      "MSE: 8.58\n",
      "MAE: 8.58\n",
      "MAPE: 857.82\n"
     ]
    }
   ],
   "source": [
    "print('Precisao: %.2f' % (precisao_keras2*100))\n",
    "print('Loss: %.2f' % (loss_keras2*100))\n",
    "print('MSE: %.2f' % (mse_keras2*100))\n",
    "print('MAE: %.2f' % (mae_keras2*100))\n",
    "print('MAPE: %.2f' % (mape_keras2*100))"
   ]
  },
  {
   "cell_type": "code",
   "execution_count": 238,
   "metadata": {},
   "outputs": [],
   "source": [
    "previsao_keras2 = modelo2.predict_classes(X_teste3)"
   ]
  },
  {
   "cell_type": "code",
   "execution_count": 239,
   "metadata": {},
   "outputs": [
    {
     "name": "stdout",
     "output_type": "stream",
     "text": [
      "[[49381     0]\n",
      " [ 4702     0]]\n"
     ]
    }
   ],
   "source": [
    "matriz_confusao_keras2 = confusion_matrix(Y_teste3, previsao_keras2)\n",
    "print(matriz_confusao_keras2)"
   ]
  },
  {
   "cell_type": "markdown",
   "metadata": {},
   "source": [
    "# Diferentes implementações de redes neurais utilizando o keras levaram a um mesmo resultado comparando com o Random Forest Classifier por exemplo. Iremos fazer uma análise identica porém removendo todas as linhas que contenham qualquer valor do tipo NaN"
   ]
  },
  {
   "cell_type": "code",
   "execution_count": 241,
   "metadata": {},
   "outputs": [],
   "source": [
    "dataset2 = pd.read_csv('problem1_dataset.csv')"
   ]
  },
  {
   "cell_type": "code",
   "execution_count": 243,
   "metadata": {},
   "outputs": [],
   "source": [
    "dataset2 = dataset2.dropna(axis=0)"
   ]
  },
  {
   "cell_type": "code",
   "execution_count": 244,
   "metadata": {},
   "outputs": [],
   "source": [
    "dataset2 = dataset2.drop(['ITEM_ID','SESSION_ID'],axis=1)"
   ]
  },
  {
   "cell_type": "code",
   "execution_count": 247,
   "metadata": {},
   "outputs": [],
   "source": [
    "enconder_1a = LabelEncoder();\n",
    "enconder_1a.fit(dataset2['MARCA'].values);\n",
    "marca_convertida = enconder_1a.transform(dataset2['MARCA'].values)\n",
    "dataset2['MARCA'] = marca_convertida"
   ]
  },
  {
   "cell_type": "code",
   "execution_count": 248,
   "metadata": {},
   "outputs": [],
   "source": [
    "enconder_2a = LabelEncoder();\n",
    "enconder_2a.fit(dataset2['COMPOSICAO'].values);\n",
    "composicao_convertida = enconder_2a.transform(dataset2['COMPOSICAO'].values)\n",
    "dataset2['COMPOSICAO'] = composicao_convertida"
   ]
  },
  {
   "cell_type": "code",
   "execution_count": 250,
   "metadata": {},
   "outputs": [],
   "source": [
    "enconder_3a = LabelEncoder();\n",
    "enconder_3a.fit(dataset2['COR'].values);\n",
    "cor_convertida = enconder_3.transform(dataset2['COR'].values)\n",
    "dataset2['COR'] = cor_convertida"
   ]
  },
  {
   "cell_type": "code",
   "execution_count": 251,
   "metadata": {},
   "outputs": [],
   "source": [
    "enconder_4a = LabelEncoder();\n",
    "enconder_4a.fit(dataset2['FORMATO'].values);\n",
    "forma_convertida = enconder_4a.transform(dataset2['FORMATO'].values)\n",
    "dataset2['FORMATO'] = forma_convertida"
   ]
  },
  {
   "cell_type": "code",
   "execution_count": 253,
   "metadata": {},
   "outputs": [],
   "source": [
    "dataset2[dataset2['PARA_LAVA_LOUCAS'] == 'NAO']['PARA_LAVA_LOUCAS'] = 'No'\n",
    "enconder_5a = LabelEncoder();\n",
    "enconder_5a.fit(dataset2['PARA_LAVA_LOUCAS'].values);\n",
    "lavar_louca_convertida = enconder_5.transform(dataset2['PARA_LAVA_LOUCAS'].values)\n",
    "dataset2['PARA_LAVA_LOUCAS'] = lavar_louca_convertida"
   ]
  },
  {
   "cell_type": "code",
   "execution_count": 254,
   "metadata": {},
   "outputs": [],
   "source": [
    "enconder_6a = LabelEncoder();\n",
    "enconder_6a.fit(dataset2['PARA_MICRO_ONDAS'].values);\n",
    "para_micro_ondas_convertida = enconder_6a.transform(dataset2['PARA_MICRO_ONDAS'].values)\n",
    "dataset2['PARA_MICRO_ONDAS'] = para_micro_ondas_convertida"
   ]
  },
  {
   "cell_type": "code",
   "execution_count": 255,
   "metadata": {},
   "outputs": [],
   "source": [
    "enconder_7a = LabelEncoder();\n",
    "enconder_7a.fit(dataset2['TEM_FERRO_FUNDIDO'].values);\n",
    "ferro_fundido_convertida = enconder_7a.transform(dataset2['TEM_FERRO_FUNDIDO'].values)\n",
    "dataset2['TEM_FERRO_FUNDIDO'] = ferro_fundido_convertida"
   ]
  },
  {
   "cell_type": "code",
   "execution_count": 256,
   "metadata": {},
   "outputs": [],
   "source": [
    "enconder_8a = LabelEncoder();\n",
    "enconder_8a.fit(dataset2['TEM_GRELHA'].values);\n",
    "grelha_convertida = enconder_8a.transform(dataset2['TEM_GRELHA'].values)\n",
    "dataset2['TEM_GRELHA'] = grelha_convertida"
   ]
  },
  {
   "cell_type": "code",
   "execution_count": 257,
   "metadata": {},
   "outputs": [],
   "source": [
    "enconder_9a = LabelEncoder();\n",
    "enconder_9a.fit(dataset2['TIPO_PRODUTO'].values);\n",
    "tipo_produto_convertida = enconder_9a.transform(dataset2['TIPO_PRODUTO'].values)\n",
    "dataset2['TIPO_PRODUTO'] = tipo_produto_convertida"
   ]
  },
  {
   "cell_type": "code",
   "execution_count": 258,
   "metadata": {},
   "outputs": [],
   "source": [
    "enconder_10a = LabelEncoder();\n",
    "enconder_10a.fit(dataset2['TIPO_WOK'].values);\n",
    "tipo_wok_convertida = enconder_10a.transform(dataset2['TIPO_WOK'].values)\n",
    "dataset2['TIPO_WOK'] = tipo_wok_convertida"
   ]
  },
  {
   "cell_type": "code",
   "execution_count": 263,
   "metadata": {},
   "outputs": [],
   "source": [
    "X = dataset2.drop('INTERESTED',axis=1).values\n",
    "Y = dataset2['INTERESTED'].values"
   ]
  },
  {
   "cell_type": "code",
   "execution_count": 264,
   "metadata": {},
   "outputs": [],
   "source": [
    "X_treino2, X_teste2, Y_treino2, Y_teste2 = train_test_split(X, Y, test_size=0.30, random_state=42)"
   ]
  },
  {
   "cell_type": "code",
   "execution_count": 265,
   "metadata": {},
   "outputs": [],
   "source": [
    "logreg = LogisticRegression(penalty='l2',solver='newton-cg',max_iter=10000)"
   ]
  },
  {
   "cell_type": "code",
   "execution_count": 266,
   "metadata": {},
   "outputs": [
    {
     "data": {
      "text/plain": [
       "LogisticRegression(C=1.0, class_weight=None, dual=False, fit_intercept=True,\n",
       "                   intercept_scaling=1, l1_ratio=None, max_iter=10000,\n",
       "                   multi_class='warn', n_jobs=None, penalty='l2',\n",
       "                   random_state=None, solver='newton-cg', tol=0.0001, verbose=0,\n",
       "                   warm_start=False)"
      ]
     },
     "execution_count": 266,
     "metadata": {},
     "output_type": "execute_result"
    }
   ],
   "source": [
    "logreg.fit(X_treino2,Y_treino2)"
   ]
  },
  {
   "cell_type": "code",
   "execution_count": 267,
   "metadata": {},
   "outputs": [],
   "source": [
    "previsao_logreg = logreg.predict(X_teste2)"
   ]
  },
  {
   "cell_type": "code",
   "execution_count": 268,
   "metadata": {},
   "outputs": [
    {
     "name": "stdout",
     "output_type": "stream",
     "text": [
      "[[7484    0]\n",
      " [ 717    0]]\n"
     ]
    }
   ],
   "source": [
    "matriz_confusao_logreg = confusion_matrix(Y_teste2, previsao_logreg)\n",
    "print(matriz_confusao_logreg)"
   ]
  },
  {
   "cell_type": "code",
   "execution_count": 287,
   "metadata": {},
   "outputs": [],
   "source": [
    "def modelo3_keras():\n",
    "    model = Sequential()\n",
    "    model.add(Dense(128, input_dim=18,activation='tanh'))\n",
    "    model.add(Dense(128,activation='tanh'))\n",
    "    model.add(Dense(1, activation='sigmoid'))\n",
    "    sgd = SGD(lr=0.1, decay=1e-6, momentum=0.9, nesterov=True)\n",
    "    model.compile(loss='binary_crossentropy', optimizer='adam', metrics=['accuracy','mse','mae','mape'])\n",
    "    return model"
   ]
  },
  {
   "cell_type": "code",
   "execution_count": 289,
   "metadata": {},
   "outputs": [
    {
     "name": "stdout",
     "output_type": "stream",
     "text": [
      "Train on 19135 samples, validate on 8201 samples\n",
      "Epoch 1/50\n",
      "19135/19135 [==============================] - 3s 178us/step - loss: 0.2917 - acc: 0.9154 - mean_squared_error: 0.0777 - mean_absolute_error: 0.1532 - mean_absolute_percentage_error: 76490513.5981 - val_loss: 0.2986 - val_acc: 0.9126 - val_mean_squared_error: 0.0801 - val_mean_absolute_error: 0.1857 - val_mean_absolute_percentage_error: 109509071.9854\n",
      "Epoch 2/50\n",
      "19135/19135 [==============================] - 1s 56us/step - loss: 0.2889 - acc: 0.9158 - mean_squared_error: 0.0770 - mean_absolute_error: 0.1531 - mean_absolute_percentage_error: 76475534.1751 - val_loss: 0.2962 - val_acc: 0.9126 - val_mean_squared_error: 0.0796 - val_mean_absolute_error: 0.1782 - val_mean_absolute_percentage_error: 101161835.5371\n",
      "Epoch 3/50\n",
      "19135/19135 [==============================] - 1s 77us/step - loss: 0.2861 - acc: 0.9158 - mean_squared_error: 0.0766 - mean_absolute_error: 0.1532 - mean_absolute_percentage_error: 76733006.8356 - val_loss: 0.2985 - val_acc: 0.9126 - val_mean_squared_error: 0.0795 - val_mean_absolute_error: 0.1466 - val_mean_absolute_percentage_error: 66588088.1405\n",
      "Epoch 4/50\n",
      "19135/19135 [==============================] - 2s 102us/step - loss: 0.2870 - acc: 0.9158 - mean_squared_error: 0.0768 - mean_absolute_error: 0.1529 - mean_absolute_percentage_error: 76375825.6054 - val_loss: 0.2951 - val_acc: 0.9126 - val_mean_squared_error: 0.0796 - val_mean_absolute_error: 0.1580 - val_mean_absolute_percentage_error: 78434620.8843\n",
      "\n",
      "Epoch 00004: ReduceLROnPlateau reducing learning rate to 0.00020000000949949026.\n",
      "Epoch 5/50\n",
      "19135/19135 [==============================] - 1s 76us/step - loss: 0.2839 - acc: 0.9158 - mean_squared_error: 0.0762 - mean_absolute_error: 0.1527 - mean_absolute_percentage_error: 76428122.2556 - val_loss: 0.2918 - val_acc: 0.9126 - val_mean_squared_error: 0.0788 - val_mean_absolute_error: 0.1680 - val_mean_absolute_percentage_error: 90492496.3414\n",
      "Epoch 6/50\n",
      "19135/19135 [==============================] - 2s 89us/step - loss: 0.2834 - acc: 0.9158 - mean_squared_error: 0.0761 - mean_absolute_error: 0.1530 - mean_absolute_percentage_error: 76894767.2642 - val_loss: 0.2915 - val_acc: 0.9126 - val_mean_squared_error: 0.0788 - val_mean_absolute_error: 0.1466 - val_mean_absolute_percentage_error: 66515056.8370\n",
      "Epoch 7/50\n",
      "19135/19135 [==============================] - 2s 79us/step - loss: 0.2827 - acc: 0.9158 - mean_squared_error: 0.0760 - mean_absolute_error: 0.1518 - mean_absolute_percentage_error: 75727907.8484 - val_loss: 0.2912 - val_acc: 0.9126 - val_mean_squared_error: 0.0786 - val_mean_absolute_error: 0.1648 - val_mean_absolute_percentage_error: 87233528.8126\n",
      "\n",
      "Epoch 00007: ReduceLROnPlateau reducing learning rate to 4.0000001899898055e-05.\n",
      "Epoch 8/50\n",
      "19135/19135 [==============================] - 1s 58us/step - loss: 0.2814 - acc: 0.9158 - mean_squared_error: 0.0758 - mean_absolute_error: 0.1527 - mean_absolute_percentage_error: 76901525.0065 - val_loss: 0.2893 - val_acc: 0.9126 - val_mean_squared_error: 0.0784 - val_mean_absolute_error: 0.1540 - val_mean_absolute_percentage_error: 75038331.3137\n",
      "Epoch 9/50\n",
      "19135/19135 [==============================] - 1s 58us/step - loss: 0.2811 - acc: 0.9158 - mean_squared_error: 0.0757 - mean_absolute_error: 0.1524 - mean_absolute_percentage_error: 76621893.7089 - val_loss: 0.2902 - val_acc: 0.9126 - val_mean_squared_error: 0.0785 - val_mean_absolute_error: 0.1465 - val_mean_absolute_percentage_error: 66764119.9025\n",
      "Epoch 10/50\n",
      "19135/19135 [==============================] - 1s 58us/step - loss: 0.2806 - acc: 0.9158 - mean_squared_error: 0.0757 - mean_absolute_error: 0.1507 - mean_absolute_percentage_error: 74818570.9914 - val_loss: 0.2888 - val_acc: 0.9126 - val_mean_squared_error: 0.0783 - val_mean_absolute_error: 0.1607 - val_mean_absolute_percentage_error: 82757297.7715\n",
      "\n",
      "Epoch 00010: ReduceLROnPlateau reducing learning rate to 8.000000525498762e-06.\n",
      "Epoch 11/50\n",
      "19135/19135 [==============================] - 1s 54us/step - loss: 0.2804 - acc: 0.9158 - mean_squared_error: 0.0756 - mean_absolute_error: 0.1543 - mean_absolute_percentage_error: 78848933.7277 - val_loss: 0.2889 - val_acc: 0.9126 - val_mean_squared_error: 0.0783 - val_mean_absolute_error: 0.1521 - val_mean_absolute_percentage_error: 73143688.8126\n",
      "Epoch 12/50\n",
      "19135/19135 [==============================] - 1s 60us/step - loss: 0.2805 - acc: 0.9158 - mean_squared_error: 0.0756 - mean_absolute_error: 0.1508 - mean_absolute_percentage_error: 74907224.9281 - val_loss: 0.2887 - val_acc: 0.9126 - val_mean_squared_error: 0.0783 - val_mean_absolute_error: 0.1546 - val_mean_absolute_percentage_error: 75893346.9177\n",
      "Epoch 13/50\n",
      "19135/19135 [==============================] - 2s 113us/step - loss: 0.2804 - acc: 0.9158 - mean_squared_error: 0.0756 - mean_absolute_error: 0.1512 - mean_absolute_percentage_error: 75340413.4100 - val_loss: 0.2886 - val_acc: 0.9126 - val_mean_squared_error: 0.0782 - val_mean_absolute_error: 0.1563 - val_mean_absolute_percentage_error: 77922945.2506\n",
      "\n",
      "Epoch 00013: ReduceLROnPlateau reducing learning rate to 1.6000001778593287e-06.\n",
      "Epoch 14/50\n",
      "19135/19135 [==============================] - 2s 97us/step - loss: 0.2803 - acc: 0.9158 - mean_squared_error: 0.0756 - mean_absolute_error: 0.1534 - mean_absolute_percentage_error: 77851119.7094 - val_loss: 0.2886 - val_acc: 0.9126 - val_mean_squared_error: 0.0782 - val_mean_absolute_error: 0.1553 - val_mean_absolute_percentage_error: 76792011.2913\n",
      "Epoch 15/50\n",
      "19135/19135 [==============================] - 2s 86us/step - loss: 0.2803 - acc: 0.9158 - mean_squared_error: 0.0756 - mean_absolute_error: 0.1524 - mean_absolute_percentage_error: 76705009.7978 - val_loss: 0.2886 - val_acc: 0.9126 - val_mean_squared_error: 0.0782 - val_mean_absolute_error: 0.1549 - val_mean_absolute_percentage_error: 76266828.9721\n",
      "Epoch 16/50\n",
      "19135/19135 [==============================] - 1s 62us/step - loss: 0.2803 - acc: 0.9158 - mean_squared_error: 0.0756 - mean_absolute_error: 0.1522 - mean_absolute_percentage_error: 76512964.5989 - val_loss: 0.2886 - val_acc: 0.9126 - val_mean_squared_error: 0.0783 - val_mean_absolute_error: 0.1544 - val_mean_absolute_percentage_error: 75702656.9735\n",
      "\n",
      "Epoch 00016: ReduceLROnPlateau reducing learning rate to 3.200000264769187e-07.\n",
      "Epoch 17/50\n",
      "19135/19135 [==============================] - 1s 60us/step - loss: 0.2803 - acc: 0.9158 - mean_squared_error: 0.0756 - mean_absolute_error: 0.1516 - mean_absolute_percentage_error: 75774418.2576 - val_loss: 0.2886 - val_acc: 0.9126 - val_mean_squared_error: 0.0783 - val_mean_absolute_error: 0.1544 - val_mean_absolute_percentage_error: 75684017.4428\n",
      "Epoch 18/50\n",
      "19135/19135 [==============================] - 1s 60us/step - loss: 0.2803 - acc: 0.9158 - mean_squared_error: 0.0756 - mean_absolute_error: 0.1517 - mean_absolute_percentage_error: 75904398.0057 - val_loss: 0.2886 - val_acc: 0.9126 - val_mean_squared_error: 0.0783 - val_mean_absolute_error: 0.1544 - val_mean_absolute_percentage_error: 75721752.0498\n",
      "Epoch 19/50\n",
      "19135/19135 [==============================] - 1s 60us/step - loss: 0.2803 - acc: 0.9158 - mean_squared_error: 0.0756 - mean_absolute_error: 0.1516 - mean_absolute_percentage_error: 75860962.6527 - val_loss: 0.2886 - val_acc: 0.9126 - val_mean_squared_error: 0.0783 - val_mean_absolute_error: 0.1544 - val_mean_absolute_percentage_error: 75747792.6487\n",
      "\n",
      "Epoch 00019: ReduceLROnPlateau reducing learning rate to 6.400000529538374e-08.\n",
      "Epoch 20/50\n",
      "19135/19135 [==============================] - 1s 59us/step - loss: 0.2803 - acc: 0.9158 - mean_squared_error: 0.0756 - mean_absolute_error: 0.1516 - mean_absolute_percentage_error: 75822019.6708 - val_loss: 0.2886 - val_acc: 0.9126 - val_mean_squared_error: 0.0783 - val_mean_absolute_error: 0.1544 - val_mean_absolute_percentage_error: 75742432.6409\n",
      "Epoch 21/50\n",
      "19135/19135 [==============================] - 1s 59us/step - loss: 0.2803 - acc: 0.9158 - mean_squared_error: 0.0756 - mean_absolute_error: 0.1516 - mean_absolute_percentage_error: 75823701.3703 - val_loss: 0.2886 - val_acc: 0.9126 - val_mean_squared_error: 0.0783 - val_mean_absolute_error: 0.1544 - val_mean_absolute_percentage_error: 75745368.6585\n",
      "Epoch 22/50\n"
     ]
    },
    {
     "name": "stdout",
     "output_type": "stream",
     "text": [
      "19135/19135 [==============================] - 1s 55us/step - loss: 0.2803 - acc: 0.9158 - mean_squared_error: 0.0756 - mean_absolute_error: 0.1516 - mean_absolute_percentage_error: 75827373.6462 - val_loss: 0.2886 - val_acc: 0.9126 - val_mean_squared_error: 0.0783 - val_mean_absolute_error: 0.1544 - val_mean_absolute_percentage_error: 75746054.9709\n",
      "\n",
      "Epoch 00022: ReduceLROnPlateau reducing learning rate to 1.2800001059076749e-08.\n",
      "Epoch 23/50\n",
      "19135/19135 [==============================] - 1s 55us/step - loss: 0.2803 - acc: 0.9158 - mean_squared_error: 0.0756 - mean_absolute_error: 0.1516 - mean_absolute_percentage_error: 75840454.4176 - val_loss: 0.2886 - val_acc: 0.9126 - val_mean_squared_error: 0.0783 - val_mean_absolute_error: 0.1544 - val_mean_absolute_percentage_error: 75746904.7970\n",
      "Epoch 24/50\n",
      "19135/19135 [==============================] - 1s 56us/step - loss: 0.2803 - acc: 0.9158 - mean_squared_error: 0.0756 - mean_absolute_error: 0.1516 - mean_absolute_percentage_error: 75842460.7849 - val_loss: 0.2886 - val_acc: 0.9126 - val_mean_squared_error: 0.0783 - val_mean_absolute_error: 0.1544 - val_mean_absolute_percentage_error: 75748424.8019\n",
      "Epoch 25/50\n",
      "19135/19135 [==============================] - 1s 72us/step - loss: 0.2803 - acc: 0.9158 - mean_squared_error: 0.0756 - mean_absolute_error: 0.1516 - mean_absolute_percentage_error: 75844244.8644 - val_loss: 0.2886 - val_acc: 0.9126 - val_mean_squared_error: 0.0783 - val_mean_absolute_error: 0.1544 - val_mean_absolute_percentage_error: 75747972.5604\n",
      "\n",
      "Epoch 00025: ReduceLROnPlateau reducing learning rate to 2.5600002118153498e-09.\n",
      "Epoch 26/50\n",
      "19135/19135 [==============================] - 1s 63us/step - loss: 0.2803 - acc: 0.9158 - mean_squared_error: 0.0756 - mean_absolute_error: 0.1516 - mean_absolute_percentage_error: 75840527.9185 - val_loss: 0.2886 - val_acc: 0.9126 - val_mean_squared_error: 0.0783 - val_mean_absolute_error: 0.1544 - val_mean_absolute_percentage_error: 75748013.5340\n",
      "Epoch 27/50\n",
      "19135/19135 [==============================] - 2s 85us/step - loss: 0.2803 - acc: 0.9158 - mean_squared_error: 0.0756 - mean_absolute_error: 0.1516 - mean_absolute_percentage_error: 75840599.1743 - val_loss: 0.2886 - val_acc: 0.9126 - val_mean_squared_error: 0.0783 - val_mean_absolute_error: 0.1544 - val_mean_absolute_percentage_error: 75748027.8493\n",
      "Epoch 28/50\n",
      "19135/19135 [==============================] - 1s 69us/step - loss: 0.2803 - acc: 0.9158 - mean_squared_error: 0.0756 - mean_absolute_error: 0.1516 - mean_absolute_percentage_error: 75840723.7565 - val_loss: 0.2886 - val_acc: 0.9126 - val_mean_squared_error: 0.0783 - val_mean_absolute_error: 0.1544 - val_mean_absolute_percentage_error: 75748126.1183\n",
      "\n",
      "Epoch 00028: ReduceLROnPlateau reducing learning rate to 5.1200004236307e-10.\n",
      "Epoch 29/50\n",
      "19135/19135 [==============================] - 1s 62us/step - loss: 0.2803 - acc: 0.9158 - mean_squared_error: 0.0756 - mean_absolute_error: 0.1516 - mean_absolute_percentage_error: 75840677.0985 - val_loss: 0.2886 - val_acc: 0.9126 - val_mean_squared_error: 0.0783 - val_mean_absolute_error: 0.1544 - val_mean_absolute_percentage_error: 75748128.4331\n",
      "Epoch 30/50\n",
      "19135/19135 [==============================] - 1s 67us/step - loss: 0.2803 - acc: 0.9158 - mean_squared_error: 0.0756 - mean_absolute_error: 0.1516 - mean_absolute_percentage_error: 75840679.2036 - val_loss: 0.2886 - val_acc: 0.9126 - val_mean_squared_error: 0.0783 - val_mean_absolute_error: 0.1544 - val_mean_absolute_percentage_error: 75748130.5548\n",
      "Epoch 31/50\n",
      "19135/19135 [==============================] - 2s 79us/step - loss: 0.2803 - acc: 0.9158 - mean_squared_error: 0.0756 - mean_absolute_error: 0.1516 - mean_absolute_percentage_error: 75840686.3507 - val_loss: 0.2886 - val_acc: 0.9126 - val_mean_squared_error: 0.0783 - val_mean_absolute_error: 0.1544 - val_mean_absolute_percentage_error: 75748132.0932\n",
      "\n",
      "Epoch 00031: ReduceLROnPlateau reducing learning rate to 1.0240001069306004e-10.\n",
      "Epoch 32/50\n",
      "19135/19135 [==============================] - 2s 97us/step - loss: 0.2803 - acc: 0.9158 - mean_squared_error: 0.0756 - mean_absolute_error: 0.1516 - mean_absolute_percentage_error: 75840687.2934 - val_loss: 0.2886 - val_acc: 0.9126 - val_mean_squared_error: 0.0783 - val_mean_absolute_error: 0.1544 - val_mean_absolute_percentage_error: 75748131.9956\n",
      "Epoch 33/50\n",
      "19135/19135 [==============================] - 2s 103us/step - loss: 0.2803 - acc: 0.9158 - mean_squared_error: 0.0756 - mean_absolute_error: 0.1516 - mean_absolute_percentage_error: 75840687.6342 - val_loss: 0.2886 - val_acc: 0.9126 - val_mean_squared_error: 0.0783 - val_mean_absolute_error: 0.1544 - val_mean_absolute_percentage_error: 75748132.2395\n",
      "Epoch 34/50\n",
      "19135/19135 [==============================] - 2s 80us/step - loss: 0.2803 - acc: 0.9158 - mean_squared_error: 0.0756 - mean_absolute_error: 0.1516 - mean_absolute_percentage_error: 75840687.2036 - val_loss: 0.2886 - val_acc: 0.9126 - val_mean_squared_error: 0.0783 - val_mean_absolute_error: 0.1544 - val_mean_absolute_percentage_error: 75748132.1907\n",
      "\n",
      "Epoch 00034: ReduceLROnPlateau reducing learning rate to 2.0480002416167767e-11.\n",
      "Epoch 35/50\n",
      "19135/19135 [==============================] - 1s 76us/step - loss: 0.2803 - acc: 0.9158 - mean_squared_error: 0.0756 - mean_absolute_error: 0.1516 - mean_absolute_percentage_error: 75840687.5840 - val_loss: 0.2886 - val_acc: 0.9126 - val_mean_squared_error: 0.0783 - val_mean_absolute_error: 0.1544 - val_mean_absolute_percentage_error: 75748132.1907\n",
      "Epoch 36/50\n",
      "19135/19135 [==============================] - 1s 77us/step - loss: 0.2803 - acc: 0.9158 - mean_squared_error: 0.0756 - mean_absolute_error: 0.1516 - mean_absolute_percentage_error: 75840687.4398 - val_loss: 0.2886 - val_acc: 0.9126 - val_mean_squared_error: 0.0783 - val_mean_absolute_error: 0.1544 - val_mean_absolute_percentage_error: 75748132.1907\n",
      "Epoch 37/50\n",
      "19135/19135 [==============================] - 1s 77us/step - loss: 0.2803 - acc: 0.9158 - mean_squared_error: 0.0756 - mean_absolute_error: 0.1516 - mean_absolute_percentage_error: 75840687.5798 - val_loss: 0.2886 - val_acc: 0.9126 - val_mean_squared_error: 0.0783 - val_mean_absolute_error: 0.1544 - val_mean_absolute_percentage_error: 75748132.1907\n",
      "\n",
      "Epoch 00037: ReduceLROnPlateau reducing learning rate to 4.096000622011431e-12.\n",
      "Epoch 38/50\n",
      "19135/19135 [==============================] - 1s 77us/step - loss: 0.2803 - acc: 0.9158 - mean_squared_error: 0.0756 - mean_absolute_error: 0.1516 - mean_absolute_percentage_error: 75840687.3164 - val_loss: 0.2886 - val_acc: 0.9126 - val_mean_squared_error: 0.0783 - val_mean_absolute_error: 0.1544 - val_mean_absolute_percentage_error: 75748132.1907\n",
      "Epoch 39/50\n",
      "19135/19135 [==============================] - 1s 77us/step - loss: 0.2803 - acc: 0.9158 - mean_squared_error: 0.0756 - mean_absolute_error: 0.1516 - mean_absolute_percentage_error: 75840687.4272 - val_loss: 0.2886 - val_acc: 0.9126 - val_mean_squared_error: 0.0783 - val_mean_absolute_error: 0.1544 - val_mean_absolute_percentage_error: 75748132.1907\n",
      "Epoch 40/50\n",
      "19135/19135 [==============================] - 1s 75us/step - loss: 0.2803 - acc: 0.9158 - mean_squared_error: 0.0756 - mean_absolute_error: 0.1516 - mean_absolute_percentage_error: 75840687.0781 - val_loss: 0.2886 - val_acc: 0.9126 - val_mean_squared_error: 0.0783 - val_mean_absolute_error: 0.1544 - val_mean_absolute_percentage_error: 75748132.1907\n",
      "\n",
      "Epoch 00040: ReduceLROnPlateau reducing learning rate to 8.192000897078167e-13.\n",
      "Epoch 41/50\n",
      "19135/19135 [==============================] - 1s 75us/step - loss: 0.2803 - acc: 0.9158 - mean_squared_error: 0.0756 - mean_absolute_error: 0.1516 - mean_absolute_percentage_error: 75840687.4858 - val_loss: 0.2886 - val_acc: 0.9126 - val_mean_squared_error: 0.0783 - val_mean_absolute_error: 0.1544 - val_mean_absolute_percentage_error: 75748132.1907\n",
      "Epoch 42/50\n",
      "19135/19135 [==============================] - 1s 76us/step - loss: 0.2803 - acc: 0.9158 - mean_squared_error: 0.0756 - mean_absolute_error: 0.1516 - mean_absolute_percentage_error: 75840687.4335 - val_loss: 0.2886 - val_acc: 0.9126 - val_mean_squared_error: 0.0783 - val_mean_absolute_error: 0.1544 - val_mean_absolute_percentage_error: 75748132.1907\n"
     ]
    },
    {
     "name": "stdout",
     "output_type": "stream",
     "text": [
      "Epoch 43/50\n",
      "19135/19135 [==============================] - 1s 78us/step - loss: 0.2803 - acc: 0.9158 - mean_squared_error: 0.0756 - mean_absolute_error: 0.1516 - mean_absolute_percentage_error: 75840687.7042 - val_loss: 0.2886 - val_acc: 0.9126 - val_mean_squared_error: 0.0783 - val_mean_absolute_error: 0.1544 - val_mean_absolute_percentage_error: 75748132.1907\n",
      "\n",
      "Epoch 00043: ReduceLROnPlateau reducing learning rate to 1.6384001360475466e-13.\n",
      "Epoch 44/50\n",
      "19135/19135 [==============================] - 1s 77us/step - loss: 0.2803 - acc: 0.9158 - mean_squared_error: 0.0756 - mean_absolute_error: 0.1516 - mean_absolute_percentage_error: 75840687.7032 - val_loss: 0.2886 - val_acc: 0.9126 - val_mean_squared_error: 0.0783 - val_mean_absolute_error: 0.1544 - val_mean_absolute_percentage_error: 75748132.1907\n",
      "Epoch 45/50\n",
      "19135/19135 [==============================] - 2s 79us/step - loss: 0.2803 - acc: 0.9158 - mean_squared_error: 0.0756 - mean_absolute_error: 0.1516 - mean_absolute_percentage_error: 75840687.6154 - val_loss: 0.2886 - val_acc: 0.9126 - val_mean_squared_error: 0.0783 - val_mean_absolute_error: 0.1544 - val_mean_absolute_percentage_error: 75748132.1907\n",
      "Epoch 46/50\n",
      "19135/19135 [==============================] - 1s 78us/step - loss: 0.2803 - acc: 0.9158 - mean_squared_error: 0.0756 - mean_absolute_error: 0.1516 - mean_absolute_percentage_error: 75840687.1847 - val_loss: 0.2886 - val_acc: 0.9126 - val_mean_squared_error: 0.0783 - val_mean_absolute_error: 0.1544 - val_mean_absolute_percentage_error: 75748132.1907\n",
      "\n",
      "Epoch 00046: ReduceLROnPlateau reducing learning rate to 3.2768002178849846e-14.\n",
      "Epoch 47/50\n",
      "19135/19135 [==============================] - 1s 73us/step - loss: 0.2803 - acc: 0.9158 - mean_squared_error: 0.0756 - mean_absolute_error: 0.1516 - mean_absolute_percentage_error: 75840687.7094 - val_loss: 0.2886 - val_acc: 0.9126 - val_mean_squared_error: 0.0783 - val_mean_absolute_error: 0.1544 - val_mean_absolute_percentage_error: 75748132.1907\n",
      "Epoch 48/50\n",
      "19135/19135 [==============================] - 1s 73us/step - loss: 0.2803 - acc: 0.9158 - mean_squared_error: 0.0756 - mean_absolute_error: 0.1516 - mean_absolute_percentage_error: 75840687.6175 - val_loss: 0.2886 - val_acc: 0.9126 - val_mean_squared_error: 0.0783 - val_mean_absolute_error: 0.1544 - val_mean_absolute_percentage_error: 75748132.1907\n",
      "Epoch 49/50\n",
      "19135/19135 [==============================] - 1s 74us/step - loss: 0.2803 - acc: 0.9158 - mean_squared_error: 0.0756 - mean_absolute_error: 0.1516 - mean_absolute_percentage_error: 75840686.8921 - val_loss: 0.2886 - val_acc: 0.9126 - val_mean_squared_error: 0.0783 - val_mean_absolute_error: 0.1544 - val_mean_absolute_percentage_error: 75748132.1907\n",
      "\n",
      "Epoch 00049: ReduceLROnPlateau reducing learning rate to 6.553600300244697e-15.\n",
      "Epoch 50/50\n",
      "19135/19135 [==============================] - 1s 75us/step - loss: 0.2803 - acc: 0.9158 - mean_squared_error: 0.0756 - mean_absolute_error: 0.1516 - mean_absolute_percentage_error: 75840687.3541 - val_loss: 0.2886 - val_acc: 0.9126 - val_mean_squared_error: 0.0783 - val_mean_absolute_error: 0.1544 - val_mean_absolute_percentage_error: 75748132.1907\n"
     ]
    },
    {
     "data": {
      "text/plain": [
       "<keras.callbacks.History at 0x1a29615ad0>"
      ]
     },
     "execution_count": 289,
     "metadata": {},
     "output_type": "execute_result"
    }
   ],
   "source": [
    "modelo2 = modelo3_keras()\n",
    "learning_rate_reduction = ReduceLROnPlateau(monitor='val_acc', patience=3, verbose=1, factor=0.2, mode='auto')\n",
    "modelo2.fit(X_treino2, Y_treino2, epochs=50, batch_size=50, callbacks=[learning_rate_reduction], validation_data=(X_teste2, Y_teste2))"
   ]
  },
  {
   "cell_type": "markdown",
   "metadata": {},
   "source": [
    "# Observou-se que mesmo removendo os NaNs de todo os dataset sem substituição, a precisão do modelo continuou muito parecida. Analise das variáveis nos mostrou que remover uma ou mais variável não afetou o resultado final"
   ]
  },
  {
   "cell_type": "code",
   "execution_count": null,
   "metadata": {},
   "outputs": [],
   "source": []
  }
 ],
 "metadata": {
  "kernelspec": {
   "display_name": "Python 3",
   "language": "python",
   "name": "python3"
  },
  "language_info": {
   "codemirror_mode": {
    "name": "ipython",
    "version": 3
   },
   "file_extension": ".py",
   "mimetype": "text/x-python",
   "name": "python",
   "nbconvert_exporter": "python",
   "pygments_lexer": "ipython3",
   "version": "3.7.4"
  }
 },
 "nbformat": 4,
 "nbformat_minor": 2
}
